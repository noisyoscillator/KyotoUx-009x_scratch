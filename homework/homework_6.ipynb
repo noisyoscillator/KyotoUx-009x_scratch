{
 "cells": [
  {
   "cell_type": "markdown",
   "metadata": {},
   "source": [
    "# Problems for Week 6"
   ]
  },
  {
   "cell_type": "markdown",
   "metadata": {},
   "source": [
    "# Part 1"
   ]
  },
  {
   "cell_type": "markdown",
   "metadata": {},
   "source": [
    "### Problem 1 (1 point)\n",
    "Modify the code example introduced in the video to calculate the normalized logarithmic return $G_\\tau(t)$ of Apple's stock for a time duration of $\\tau = 30, 90, 180$ days, using the historical data from January 1st 1989 to December 31st 2016. For this, you should call the `computeReturn` function three times, one for each value of $\\tau$ (be sure to give each a different label within the Data Frame). Plot the (normalized) histogram of the returns on the same plot. Which of the following graphs (G11 - G15) is the closest to what you obtained? (use $n=40$ bins when plotting the histograms). \n",
    "\n",
    "- G01 <img src=\"fig/06/G01.png\" width=\"600\" />\n",
    "\n",
    "- G02 <img src=\"fig/06/G02.png\" width=\"600\" />\n",
    "\n",
    "- G03 <img src=\"fig/06/G03.png\" width=\"600\" />\n",
    "\n",
    "- G04 <img src=\"fig/06/G04.png\" width=\"600\" />\n",
    "\n",
    "- G05 <img src=\"fig/06/G05.png\" width=\"600\" />\n"
   ]
  },
  {
   "cell_type": "markdown",
   "metadata": {},
   "source": [
    "### Answer 1\n",
    "\n",
    "- G03"
   ]
  },
  {
   "cell_type": "code",
   "execution_count": null,
   "metadata": {},
   "outputs": [],
   "source": [
    "import numpy as np\n",
    "import pandas as pd\n",
    "import matplotlib.pyplot as plt\n",
    "plt.style.use('ggplot')\n",
    "pltparams = {'legend.fontsize': 16, 'axes.labelsize': 20, 'axes.titlesize': 20,\n",
    "             'xtick.labelsize': 12, 'ytick.labelsize':12, 'figure.figsize': (7.5, 7.5),}\n",
    "plt.rcParams.update(pltparams)\n",
    "def problem1(cols,taus):\n",
    "    from datetime import datetime\n",
    "    from pandas_datareader import data as pdr\n",
    "    from pandas_datareader import wb as pwb\n",
    "    # Logarithmic return of price time series\n",
    "    def logreturn(Pt,tau=1):\n",
    "        return np.log(Pt[tau:]) - np.log(Pt[0:-tau]) # Eq.(J2) : G_tau(t) = log(S(t+tau)) - log(S(t)) \n",
    "    # Normalize data to have unit variance (<(x - <x>)^2> = 1)\n",
    "    def normalized(data):\n",
    "        return (data/np.sqrt(np.var(data)))\n",
    "    # Add G_tau to data frame object\n",
    "    def computeReturn(data, name, tau):\n",
    "        data[name]=pd.Series(normalized(logreturn(data['Adj Close'].values, tau)),index=data.index[:-tau])\n",
    "        \n",
    "    # define time interval\n",
    "    end_time   = datetime(2016, 12, 31)\n",
    "    start_time = datetime(1989, 1, 1)\n",
    "    apple      = pdr.DataReader('AAPL','yahoo',start_time,end_time)\n",
    "    for col,tau in zip(cols,taus):\n",
    "        computeReturn(apple, col, tau)\n",
    "    return apple\n",
    "def plot1(ax, data, cols, labels):\n",
    "    for col,lbl in zip(cols,labels):\n",
    "        data[col].hist(ax=ax,alpha=0.6, normed=True, bins=40, lw=0, label=lbl)\n",
    "    ax.set_xlim([-5,5])\n",
    "    ax.set_ylim([0,0.6])\n",
    "    ax.legend()\n",
    "    ax.set_xlabel('Normalized price return $G_n(t)$')\n",
    "    ax.set_ylabel('Probability Distribution')"
   ]
  },
  {
   "cell_type": "code",
   "execution_count": null,
   "metadata": {},
   "outputs": [],
   "source": [
    "%matplotlib inline\n",
    "cols,taus = ['G30','G90','G180'], [30,90,180]\n",
    "apple = problem1(cols, taus)\n",
    "\n",
    "fig, axes = plt.subplots(figsize=(15.0,7.5))\n",
    "plot1(axes, apple, cols, [r'$G_{30}$', r'$G_{90}$', r'$G_{180}$'])\n",
    "fig.tight_layout()\n",
    "plt.show()"
   ]
  },
  {
   "cell_type": "markdown",
   "metadata": {},
   "source": [
    "### Problem 2  (1 point)\n",
    "Use the code example introduced in the video to calculate the probability distribution function for the absolute normalized price returns $|G_{30}|$, $|G_{90}|$, and $|G_{180}|$ of the previous problem. Plot the functions on a log-log scale together with a Gaussian distribution for comparison. Which of the following graphs is the closest to what you obtained? (When generating the histogram use $n=20$ bins for comparison).\n",
    "\n",
    "- G11 <img src=\"fig/06/G11.png\" width=\"400\" />\n",
    "\n",
    "- G12 <img src=\"fig/06/G12.png\" width=\"400\" />\n",
    "\n",
    "- G13 <img src=\"fig/06/G13.png\" width=\"400\" />\n",
    "\n",
    "- G14 <img src=\"fig/06/G14.png\" width=\"400\" />\n",
    "\n",
    "- G15 <img src=\"fig/06/G15.png\" width=\"400\" />\n"
   ]
  },
  {
   "cell_type": "markdown",
   "metadata": {},
   "source": [
    "### Answer 2\n",
    "- G12"
   ]
  },
  {
   "cell_type": "code",
   "execution_count": null,
   "metadata": {
    "collapsed": true
   },
   "outputs": [],
   "source": [
    "import numpy as np\n",
    "import pandas as pd\n",
    "import matplotlib.pyplot as plt\n",
    "plt.style.use('ggplot')\n",
    "pltparams = {'legend.fontsize': 16, 'axes.labelsize': 20, 'axes.titlesize': 20,\n",
    "             'xtick.labelsize': 12, 'ytick.labelsize':12, 'figure.figsize': (7.5, 7.5),}\n",
    "plt.rcParams.update(pltparams)\n",
    "def problem2(cols,taus):\n",
    "    from datetime import datetime\n",
    "    from pandas_datareader import data as pdr\n",
    "    from pandas_datareader import wb as pwb\n",
    "    # Logarithmic return of price time series\n",
    "    def logreturn(Pt,tau=1):\n",
    "        return np.log(Pt[tau:]) - np.log(Pt[0:-tau]) # Eq.(J2) : G_tau(t) = log(S(t+tau)) - log(S(t)) \n",
    "    # Normalize data to have unit variance (<(x - <x>)^2> = 1)\n",
    "    def normalized(data):\n",
    "        return (data/np.sqrt(np.var(data)))\n",
    "    # Add G_tau to data frame object\n",
    "    def computeReturn(data, name, tau):\n",
    "        data[name]=pd.Series(normalized(logreturn(data['Adj Close'].values, tau)),index=data.index[:-tau])\n",
    "\n",
    "    # define time interval\n",
    "    end_time   = datetime(2016, 12, 31)\n",
    "    start_time = datetime(1989, 1, 1)\n",
    "    apple      = pdr.DataReader('AAPL','yahoo',start_time,end_time)\n",
    "    for col,tau in zip(cols,taus):\n",
    "        computeReturn(apple, col, tau)\n",
    "    return apple\n",
    "def plot2(ax, data, cols, labels):\n",
    "    # compute normalized probability distribution function\n",
    "    def pdf(data,bins=50):\n",
    "        hist, edges = np.histogram(data[~np.isnan(data)], bins=bins, density=True) # remove NaNs and compute histogram (returns bar heights and bar edges)\n",
    "        edges   = (edges[:-1] + edges[1:])/2.0 # get bar centers\n",
    "        nonzero = hist > 0.0                   # only keep non-zero points \n",
    "        return edges[nonzero], hist[nonzero]\n",
    "\n",
    "    for col,lbl in zip(cols,labels):\n",
    "        edges, hist = pdf(np.abs(data[col]), bins=20)\n",
    "        ax.plot(edges, hist, label=lbl, lw=3)\n",
    "\n",
    "    #plot gaussian\n",
    "    x = np.logspace(-1, 1.2)\n",
    "    ax.plot(x,np.abs(np.exp(-x**2/2)/np.sqrt(2*np.pi)),lw=6,ls='--',color='gray',alpha=0.8,label=r'Gaussian')\n",
    "        \n",
    "    ax.set_ylim(1e-4, 2e0)\n",
    "    ax.set_xlim(1e-1, 2e1)\n",
    "    ax.semilogx()\n",
    "    ax.semilogy()\n",
    "    ax.legend(loc=3)\n",
    "    ax.set_xlabel(r'Absolute normalized price return $|G_n|$')\n",
    "    ax.set_ylabel(r'Probability distribution')"
   ]
  },
  {
   "cell_type": "code",
   "execution_count": null,
   "metadata": {},
   "outputs": [],
   "source": [
    "%matplotlib inline\n",
    "cols,taus = ['G30','G90','G180'], [30,90,180]\n",
    "apple = problem2(cols, taus)\n",
    "\n",
    "fig, ax = plt.subplots(figsize=(7.5,7.5))\n",
    "plot2(ax, apple, cols, [r'$G_{30}$', r'$G_{90}$', r'$G_{180}$'])\n",
    "fig.tight_layout()\n",
    "plt.show()"
   ]
  },
  {
   "cell_type": "markdown",
   "metadata": {},
   "source": [
    "# Part 2"
   ]
  },
  {
   "cell_type": "markdown",
   "metadata": {},
   "source": [
    "### Problem 3  (1 point)\n",
    "\n",
    "In the video, we introduced a Stochastic dealer model in which two agents, $1$ and $2$ are trading stock with each other. We described this as a Stochastic system, in which the mid-price of each dealer $p_i(t)$ ($i=1,2$) is evolving in time following a one-dimensional random walk. The moment when the absolute value of the price difference $D(t) = p_1(t) - p_2(t)$ is larger than some given value $|D(t)| \\ge L$ (which we called the spread $L$), we assumed a transaction takes place, in which dealer $1$ buys or sells from dealer $2$. The price of this transaction defines the market-price $P$, and it is given by the average price $A(t) = \\frac{1}{2}(p_1(t) + p_2(t))$.\n",
    "\n",
    "We showed how this dealer model, which consists of two 1D random walks, could be recast as a 2D random walk (in $D(t)$ vs $A(t)$ space) with absorbing boundary conditions (to describe the transaction criterion that determines when the random walk ends and a transaction takes place). We performed three sample simulations for a single trade, using a spread $L=0.01$ and obtained the following random walks\n",
    "![](fig/06/G001.png)\n",
    "Taking into account the fact that the initial condition was $p_1(0) = p_2(0) = p_0 = 100.25$, who was the buyer in each of the three random walks shown here, and at what price did he or she buy?\n",
    "\n",
    "##### 1. (Walk 0) Dealer $1$ buys at $P\\simeq 0.01$, (Walk 1) Dealer $1$ buys at $P\\simeq 0.01$, and (Walk 2) Dealer $2$ buys at $P\\simeq0.01$\n",
    "##### 2. (Walk 0) Dealer $1$ buys at $P\\simeq 0.003$, (Walk 1) Dealer $1$ buys at $P\\simeq 0.003$, and (Walk 2) Dealer $2$ buys at $P\\simeq 0.003$\n",
    "##### 3. (Walk 0) Dealer $1$ buys at $P\\simeq 100.247$, (Walk 1) Dealer $1$ buys at $P\\simeq 100.253$, and (Walk 2) Dealer $2$ buys at $P\\simeq100.253$\n",
    "##### 4. (Walk 0) Dealer $1$ buys at $P\\simeq 100.253$, (Walk 1) Dealer $1$ buys at $P\\simeq 100.247$, and (Walk 2) Dealer $2$ buys at $P\\simeq100.247$\n",
    "##### 5. (Walk 0) Dealer $2$ buys at $P\\simeq 0.01$, (Walk 1) Dealer $2$ buys at $P\\simeq 0.01$, and (Walk 2) Dealer $1$ buys at $P\\simeq0.01$\n",
    "##### 6. (Walk 0) Dealer $2$ buys at $P\\simeq 0.003$, (Walk 1) Dealer $2$ buys at $P\\simeq 0.003$, and (Walk 2) Dealer $1$ buys at $P\\simeq 0.003$\n",
    "##### 7. (Walk 0) Dealer $2$ buys at $P\\simeq 100.247$, (Walk 1) Dealer $2$ buys at $P\\simeq 100.253$, and (Walk 2) Dealer $1$ buys at $P\\simeq100.253$\n",
    "##### 8. (Walk 0) Dealer $2$ buys at $P\\simeq 100.253$, (Walk 1) Dealer $2$ buys at $P\\simeq 100.247$, and (Walk 2) Dealer $1$ buys at $P\\simeq100.247$"
   ]
  },
  {
   "cell_type": "markdown",
   "metadata": {},
   "source": [
    "### Answer 3\n",
    "\n",
    "##### 3. (Walk 0) Dealer $1$ buys at $P\\simeq 100.247$, (Walk 1) Dealer $1$ buys at $P\\simeq 100.253$, and (Walk 2) Dealer $2$ buys at $P\\simeq100.253$"
   ]
  },
  {
   "cell_type": "markdown",
   "metadata": {},
   "source": [
    "### Problem 4  (1 point)\n",
    "Using the simple stochastic dealer model, we obtained the time series data for the stock price $P_n$ (where $n$ is the tick time, which increases by one at each transaction), by simulating over many transactions (random walks). Using this time series data, we computed the logarithmic return $G_\\tau$ and saw that its distribution followed an exponential decay (at least for $\\tau=1$). To see how this distribution depends on $\\tau$, use the code example and data (`model1.txt`) introduced in the video to calculate the probability distribution function of the absolute normalized price return $|G_\\tau|$ for $\\tau=1$ and $\\tau=16$. Use a semi-log plot to visualize the distributions. As a guide to the eye, you should also plot the exponential and Gaussian distributions. Which of the following graphs is the closest to what you obtain? (When generating the histogram use $n=20$ bins for comparison).\n",
    "\n",
    "- G21 <img src=\"fig/06/G21.png\" width=\"400\" />\n",
    "\n",
    "- G22 <img src=\"fig/06/G22.png\" width=\"400\" />\n",
    "\n",
    "- G23 <img src=\"fig/06/G23.png\" width=\"400\" />\n",
    "\n",
    "- G24 <img src=\"fig/06/G24.png\" width=\"400\" />\n"
   ]
  },
  {
   "cell_type": "markdown",
   "metadata": {},
   "source": [
    "### Answer 4\n",
    "\n",
    "- G24"
   ]
  },
  {
   "cell_type": "code",
   "execution_count": null,
   "metadata": {
    "collapsed": true
   },
   "outputs": [],
   "source": [
    "import numpy as np\n",
    "import pandas as pd\n",
    "import matplotlib.pyplot as plt\n",
    "plt.style.use('ggplot')\n",
    "pltparams = {'legend.fontsize': 16, 'axes.labelsize': 20, 'axes.titlesize': 20,\n",
    "             'xtick.labelsize': 12, 'ytick.labelsize':12, 'figure.figsize': (7.5, 7.5),}\n",
    "plt.rcParams.update(pltparams)\n",
    "def problem4(tau1, tau2):\n",
    "    # Logarithmic return of price time series\n",
    "    def logreturn(Pt,tau=1):\n",
    "        return np.log(Pt[tau:]) - np.log(Pt[0:-tau]) # Eq.(J2) : G_tau(t) = log(S(t+tau)) - log(S(t)) \n",
    "    # Normalize data to have unit variance (<(x - <x>)^2> = 1)\n",
    "    def normalized(data):\n",
    "        return (data/np.sqrt(np.var(data)))\n",
    "\n",
    "    dmy, data = np.loadtxt('./data/06/model1.txt', unpack=True)\n",
    "    return normalized(logreturn(data, tau1)), normalized(logreturn(data,tau2))\n",
    "\n",
    "def plot4(ax,g1,g16):\n",
    "    def pdf(data,bins=50):\n",
    "        hist,edges=np.histogram(data[~np.isnan(data)],bins=bins,density=True) # remove NaNs and compute histogram\n",
    "        edges   = (edges[:-1] + edges[1:])/2.0 # get bar center\n",
    "        nonzero = hist > 0.0                   # non-zero points \n",
    "        return edges[nonzero], hist[nonzero]\n",
    "\n",
    "    for data,lbl in zip([g1,g16], [r'$G_1$', r'$G_{16}$']):\n",
    "        edges, hist = pdf(np.abs(data), bins=20)\n",
    "        ax.plot(edges, hist, lw=5, label=lbl)\n",
    "\n",
    "    x = np.linspace(0, 5)\n",
    "    ax.plot(x,2*np.exp(-x**2/2)/np.sqrt(2*np.pi),lw=6,ls='--',color='gray',alpha=0.6,label=r'Gaussian')\n",
    "    ax.plot(x, 2*np.exp(-1.5*x),lw=6,color='k',ls='--',alpha=0.8,label=r'Exponential')\n",
    "    ax.semilogy()\n",
    "    ax.set_ylim([5e-4,1])\n",
    "    ax.set_xlim([5e-1,6])\n",
    "    ax.legend()\n",
    "    ax.set_xlabel(r'Absolute normalized price return $|G_1|$')\n",
    "    ax.set_ylabel(r'Probability density')"
   ]
  },
  {
   "cell_type": "code",
   "execution_count": null,
   "metadata": {},
   "outputs": [],
   "source": [
    "%matplotlib inline\n",
    "fig, ax = plt.subplots(figsize=(7.5,7.5))\n",
    "g1,g2 = problem4(1,16)\n",
    "plot4(ax, g1, g2)\n",
    "fig.tight_layout()\n",
    "plt.show()"
   ]
  },
  {
   "cell_type": "markdown",
   "metadata": {},
   "source": [
    "# Part 3"
   ]
  },
  {
   "cell_type": "markdown",
   "metadata": {},
   "source": [
    "### Problem 5  (1 point)\n",
    "Use the code example introduced in the video to simulate the 2D random walk for one transaction of model 2 (the stochastic dealer model with a memory term). In this case, an extra \"drift\" or memory term $d \\langle\\Delta P\\rangle_M$ is added to the update rule for the mid-prices $p_i(t)$ of the dealers. The constant $d$ determines whether the dealers are trend-followers ($d>0$) or contrarians ($d<0$), and $\\langle \\Delta P\\rangle_M$ is a weighted average of the market prices increases $\\Delta P = P_{n+1} - P_{n}$ over the previous $M$ trades. Notice that if $d=0$, we recover the original model 1 version, without memory.\n",
    "\n",
    "Use exactly the same parameters as in the video, but take $d=-2,-1,0,1,2$, to simulate both contrarians and trend-followers. For comparison purposes, be sure to initialize the randon number generator using the same seed for all the simulations. Plot the random walk in 2D space $\\left(A(t)=\\frac{1}{2}(p_1(t) + p_2(t)), D(t) = p_1(t) - p_2(t)\\right)$. Which of the following is the closest to what you obtained?\n",
    "\n",
    "- G31 <img src=\"fig/06/G31.png\" width=\"400\" />\n",
    "\n",
    "- G32 <img src=\"fig/06/G32.png\" width=\"400\" />\n",
    "\n",
    "- G33 <img src=\"fig/06/G33.png\" width=\"400\" />\n",
    "\n",
    "- G34 <img src=\"fig/06/G34.png\" width=\"400\" />\n"
   ]
  },
  {
   "cell_type": "markdown",
   "metadata": {},
   "source": [
    "### Answer 5\n",
    "\n",
    "- G32"
   ]
  },
  {
   "cell_type": "code",
   "execution_count": null,
   "metadata": {
    "collapsed": true
   },
   "outputs": [],
   "source": [
    "import numpy as np\n",
    "import pandas as pd\n",
    "import matplotlib.pyplot as plt\n",
    "plt.style.use('ggplot')\n",
    "pltparams = {'legend.fontsize': 16, 'axes.labelsize': 20, 'axes.titlesize': 20,\n",
    "             'xtick.labelsize': 12, 'ytick.labelsize':12, 'figure.figsize': (7.5, 7.5),}\n",
    "plt.rcParams.update(pltparams)\n",
    "\n",
    "def model2RW(params,p0,deltapm):        # simulate Random-Walk for 1 transaction\n",
    "    price = np.array([p0[0], p0[1]])    # initialize mid-prices for dealers p_1 and p_2\n",
    "    cdp   = params['c']*params['dp']    # define random step size\n",
    "    ddt   = params['d']*params['dt']    # define trend drift term\n",
    "    Dt    = [price[0]-price[1]]         # initialize price difference as empty list\n",
    "    At    = [np.average(price)]         # initialize avg price as empy list\n",
    "    while np.abs(price[0]-price[1]) < params['L']:\n",
    "        price=price+np.random.choice([-cdp,cdp],size=2) # random walk step for mid-prices Eq. (L4)\n",
    "        price=price+ddt*deltapm         # Model 2 : add trend-following term in Eq. (L4)\n",
    "        Dt.append(price[0]-price[1])\n",
    "        At.append(np.average(price))\n",
    "    return np.array(Dt),np.array(At)-At[0] # return difference array and average centered at zero\n",
    "def plot5(ax, dvalues, labels):\n",
    "    params={'L':0.01,'c':0.01,'dp':0.01,'dt':0.01**2, 'd':1.25, 'M':1} # define model parameters\n",
    "    p0 = [100.25, 100.25]\n",
    "    deltapm = 0.003\n",
    "    for dval,lbl in zip(dvalues, labels):\n",
    "        np.random.seed(123456)\n",
    "        params['d'] = dval\n",
    "        Dt,At = model2RW(params, p0, deltapm) \n",
    "        ax.plot(At,Dt,alpha=0.8,label=lbl)    #plot RW\n",
    "        ax.plot(At[-1],Dt[-1],marker='o',color='k') # plot last point\n",
    "    ax.plot(0, 0, marker='s', color='k', markersize=10) # starting position\n",
    "    ax.plot([-0.04,0.04],[params['L'],params['L']],color='k') #top absorbing boundary P=L\n",
    "    ax.plot([-0.04,0.04],[-params['L'],-params['L']],color='k') #bottom absorbing boundary P=-L\n",
    "    ax.set_ylim([-0.012, 0.012])\n",
    "    ax.set_xlim([-0.02, 0.02])\n",
    "    ax.legend(loc=4,framealpha=0.8)"
   ]
  },
  {
   "cell_type": "code",
   "execution_count": null,
   "metadata": {},
   "outputs": [],
   "source": [
    "%matplotlib inline\n",
    "fig, ax = plt.subplots(figsize=(7.5,7.5))\n",
    "plot5(ax, [-2.0,-1.0,0.0,1.0,2.0], [r'$d = -2$',r'$d = -1$',r'$d = 0$',r'$d = +1$',r'$d = +2$'])\n",
    "ax.set_xlim([-0.020,0.020])\n",
    "fig.tight_layout()\n",
    "plt.show()"
   ]
  },
  {
   "cell_type": "markdown",
   "metadata": {},
   "source": [
    "### Problem 6  (1 point)\n",
    "Use the code example and data ('model2.txt') introduced in the video to calculate the probability distribution function of the absolute price return $G_\\tau$ for two different values of the time delay, $\\tau=1$ and $\\tau=16$. As a guide to the eye, you should also plot the exponential, Gaussian, and power-law distributions. Which of the following graphs is the closest to what you obtain? (When generating the histogram use $n=20$ bins for comparison).\n",
    "\n",
    "- G41 <img src=\"fig/06/G41.png\" width=\"600\" />\n",
    "\n",
    "- G42 <img src=\"fig/06/G42.png\" width=\"600\" />\n",
    "\n",
    "- G43 <img src=\"fig/06/G43.png\" width=\"600\" />\n",
    "\n",
    "- G44 <img src=\"fig/06/G44.png\" width=\"600\" />\n"
   ]
  },
  {
   "cell_type": "markdown",
   "metadata": {},
   "source": [
    "### Answer 6\n",
    "\n",
    "- G44"
   ]
  },
  {
   "cell_type": "code",
   "execution_count": null,
   "metadata": {},
   "outputs": [],
   "source": [
    "import numpy as np\n",
    "import pandas as pd\n",
    "import matplotlib.pyplot as plt\n",
    "plt.style.use('ggplot')\n",
    "pltparams = {'legend.fontsize': 16, 'axes.labelsize': 20, 'axes.titlesize': 20,\n",
    "             'xtick.labelsize': 12, 'ytick.labelsize':12, 'figure.figsize': (7.5, 7.5),}\n",
    "plt.rcParams.update(pltparams)\n",
    "def problem6(tau1, tau2):\n",
    "    # Logarithmic return of price time series\n",
    "    def logreturn(Pt,tau=1):\n",
    "        return np.log(Pt[tau:]) - np.log(Pt[0:-tau]) # Eq.(J2) : G_tau(t) = log(S(t+tau)) - log(S(t)) \n",
    "    # Normalize data to have unit variance (<(x - <x>)^2> = 1)\n",
    "    def normalized(data):\n",
    "        return (data/np.sqrt(np.var(data)))\n",
    "\n",
    "    dmy, data = np.loadtxt('./data/06/model2.txt', unpack=True)\n",
    "    return normalized(logreturn(data, tau1)), normalized(logreturn(data,tau2))\n",
    "\n",
    "def plot6(ax,g1,g16):\n",
    "    def pdf(data,bins=50):\n",
    "        hist,edges=np.histogram(data[~np.isnan(data)],bins=bins,density=True) # remove NaNs and compute histogram\n",
    "        edges   = (edges[:-1] + edges[1:])/2.0 # get bar center\n",
    "        nonzero = hist > 0.0                   # non-zero points \n",
    "        return edges[nonzero], hist[nonzero]\n",
    "\n",
    "    for data,lbl in zip([g1,g16], [r'$G_1$', r'$G_{16}$']):\n",
    "        edges, hist = pdf(np.abs(data), bins=20)\n",
    "        ax.plot(edges, hist, lw=5, label=lbl)\n",
    "\n",
    "    x = np.linspace(0.1, 10)\n",
    "    ax.plot(x, 2*np.exp(-1.5*x),lw=4,color='gray',ls='--',alpha=0.5,label=r'Exponential')\n",
    "    ax.plot(x,2*np.exp(-x**2/2)/np.sqrt(2*np.pi),lw=6,ls=':',color='gray',alpha=0.6,label=r'Gaussian')\n",
    "    ax.plot(x, 0.3*x**(-3), lw=6, color='k', ls='--', alpha=0.5, label=r'Power Law $\\propto x^{-3}$')\n",
    "    ax.semilogy()\n",
    "    ax.semilogx()\n",
    "    ax.set_xlim([5e-1,2e1])\n",
    "    ax.set_ylim([5e-4,1])\n",
    "    ax.legend()\n",
    "    ax.set_xlabel(r'Absolute normalized price return $|G_1|$')\n",
    "    ax.set_ylabel(r'Probability density')\n"
   ]
  },
  {
   "cell_type": "code",
   "execution_count": null,
   "metadata": {},
   "outputs": [],
   "source": [
    "%matplotlib inline\n",
    "fig, ax = plt.subplots(figsize=(15,7.5))\n",
    "g1,g2 = problem6(1,16)\n",
    "plot6(ax, g1, g2)\n",
    "fig.tight_layout()\n",
    "plt.show()"
   ]
  },
  {
   "cell_type": "markdown",
   "metadata": {},
   "source": [
    "# Part 4"
   ]
  },
  {
   "cell_type": "markdown",
   "metadata": {},
   "source": [
    "### Problem 7  (1 point)\n",
    "In the video, we showed how the price dynamics of the stochastic dealer model with memory (model 2) varied upon changing $d$ (the parameter controlling the strength of the trend-following, or contrarian behavior). In particular, we performed simulations for $d=-2,-1.25,0,+1.25,2$, where the averages over the historic price changes where taken over the last $M=10$ ticks. Using the code examples and data (`model2_M10_5d.txt`) introduced in the video, compute the probability distribution function for the absolute normalized price returns $G_1$ for the case when $d=-2$. Plot your data and compare with the Gaussian, exponential, and power-law distributions. Which of the following is the closest to what you obtained? Do you still have a power-law distribution ($\\alpha=-3$), similar to the case when $d=1.25$ and $M=1$? (When generating the histogram use $n=20$ bins for comparison)\n",
    "\n",
    "- G51 <img src=\"fig/06/G51.png\" width=\"400\" />\n",
    "\n",
    "- G52 <img src=\"fig/06/G52.png\" width=\"400\" />\n",
    "\n",
    "- G53 <img src=\"fig/06/G53.png\" width=\"400\" />\n",
    "\n",
    "- G54 <img src=\"fig/06/G54.png\" width=\"400\" />\n"
   ]
  },
  {
   "cell_type": "markdown",
   "metadata": {},
   "source": [
    "### Answer 7\n",
    " - G51, the distribution no longer coincides with the universal power-law behavior ($\\alpha\\simeq-3$), showing the sensitivity of the model to the specific parameter values."
   ]
  },
  {
   "cell_type": "code",
   "execution_count": null,
   "metadata": {
    "scrolled": false
   },
   "outputs": [],
   "source": [
    "import numpy as np\n",
    "import pandas as pd\n",
    "import matplotlib.pyplot as plt\n",
    "plt.style.use('ggplot')\n",
    "pltparams = {'legend.fontsize': 16, 'axes.labelsize': 20, 'axes.titlesize': 20,\n",
    "             'xtick.labelsize': 12, 'ytick.labelsize':12, 'figure.figsize': (7.5, 7.5),}\n",
    "plt.rcParams.update(pltparams)\n",
    "def problem7(tau):\n",
    "    # Logarithmic return of price time series\n",
    "    def logreturn(Pt,tau=1):\n",
    "        return np.log(Pt[tau:]) - np.log(Pt[0:-tau]) # Eq.(J2) : G_tau(t) = log(S(t+tau)) - log(S(t)) \n",
    "    # Normalize data to have unit variance (<(x - <x>)^2> = 1)\n",
    "    def normalized(data):\n",
    "        return (data/np.sqrt(np.var(data)))\n",
    "\n",
    "    price = pd.read_csv('./data/06/model2_M10_5d.txt', header=0, delim_whitespace=True,index_col=False)\n",
    "    dprice= pd.DataFrame() #create empty frame\n",
    "    for col in ['d+2','d+1','d0','d-1','d-2']: #populate frames with returns\n",
    "        dprice[col] = normalized(logreturn(price[col].values,tau))\n",
    "    return dprice\n",
    "\n",
    "def plot7(ax,dprice):\n",
    "    def pdf(data,bins=50):\n",
    "        hist,edges=np.histogram(data[~np.isnan(data)],bins=bins,density=True) # remove NaNs and compute histogram\n",
    "        edges   = (edges[:-1] + edges[1:])/2.0 # get bar center\n",
    "        nonzero = hist > 0.0                   # non-zero points \n",
    "        return edges[nonzero], hist[nonzero]\n",
    "\n",
    "    edges,hist = pdf(np.abs(dprice),bins=20)\n",
    "    ax.plot(edges,hist,label=r'$d=-2$', lw=3)\n",
    "    x = np.linspace(0.1, 10)\n",
    "    ax.plot(x, 2*np.exp(-1.5*x),lw=4,color='gray',ls='--',alpha=0.5,label=r'Exponential')\n",
    "    ax.plot(x,2*np.exp(-x**2/2)/np.sqrt(2*np.pi),lw=6,ls=':',color='gray',alpha=0.6,label=r'Gaussian')\n",
    "    ax.plot(x, 0.3*x**(-3), lw=6, color='k', ls='--', alpha=0.5, label=r'Power Law $\\propto x^{-3}$')\n",
    "    ax.semilogy()\n",
    "    ax.semilogx()\n",
    "    ax.set_xlim([5e-1,2e1])\n",
    "    ax.set_ylim([5e-4,1])\n",
    "    ax.legend()\n",
    "    ax.set_xlabel(r'Absolute normalized price return $|G_1|$')\n",
    "    ax.set_ylabel(r'Probability density')"
   ]
  },
  {
   "cell_type": "code",
   "execution_count": null,
   "metadata": {},
   "outputs": [],
   "source": [
    "%matplotlib inline\n",
    "fig, ax = plt.subplots(figsize=(7.5,7.5))\n",
    "dprice = problem7(1)\n",
    "plot7(ax, dprice['d-2'])\n",
    "fig.tight_layout()\n",
    "plt.show()"
   ]
  },
  {
   "cell_type": "markdown",
   "metadata": {},
   "source": [
    "### Problem 8  (1 point)\n",
    "Using the code examples and data introduced in the video, compare the correlation function $C_{G_1}(n)$ for the 1-tick return $G_1$ of the model with memory (model 2), for the cases when the trend parameter $d$ and memory time $M$ are $d=1.25, M=1$ (`model2.txt`) and $d=1.25, M=10$ (`model2_M10_5d.txt`). Plot the data on a log-log scale. Which of the following is closest to what you observed?\n",
    "\n",
    "- G61 <img src=\"fig/06/G61.png\" width=\"400\" />\n",
    "\n",
    "- G62 <img src=\"fig/06/G62.png\" width=\"400\" />\n",
    "\n",
    "- G63 <img src=\"fig/06/G63.png\" width=\"400\" />\n",
    "\n",
    "- G64 <img src=\"fig/06/G64.png\" width=\"400\" />\n"
   ]
  },
  {
   "cell_type": "markdown",
   "metadata": {},
   "source": [
    "### Answer 8\n",
    "\n",
    "- G62"
   ]
  },
  {
   "cell_type": "code",
   "execution_count": null,
   "metadata": {},
   "outputs": [],
   "source": [
    "import numpy as np\n",
    "import pandas as pd\n",
    "import matplotlib.pyplot as plt\n",
    "plt.style.use('ggplot')\n",
    "pltparams = {'legend.fontsize': 16, 'axes.labelsize': 20, 'axes.titlesize': 20,\n",
    "             'xtick.labelsize': 12, 'ytick.labelsize':12, 'figure.figsize': (7.5, 7.5),}\n",
    "plt.rcParams.update(pltparams)\n",
    "def problem8(colM10,tau=1):\n",
    "    # Logarithmic return of price time series\n",
    "    def logreturn(Pt,tau=1):\n",
    "        return np.log(Pt[tau:]) - np.log(Pt[0:-tau]) # Eq.(J2) : G_tau(t) = log(S(t+tau)) - log(S(t)) \n",
    "    # Normalize data to have unit variance (<(x - <x>)^2> = 1)\n",
    "    def normalized(data):\n",
    "        return (data/np.sqrt(np.var(data)))\n",
    "\n",
    "    priceM1   = np.loadtxt('./data/06/model2.txt', usecols=[1,])\n",
    "    priceM10 = pd.read_csv('./data/06/model2_M10_5d.txt', header=0, delim_whitespace=True, index_col=False)\n",
    "    dprice    = pd.DataFrame()\n",
    "    dprice['M1'] = normalized(logreturn(priceM1, tau))\n",
    "    dprice['M10']= normalized(logreturn(priceM10[colM10].values,tau))\n",
    "    return dprice\n",
    "\n",
    "def plot8(ax,dprice1,dprice10):\n",
    "    # compute self-correlation of vector v\n",
    "    def auto_correlate(v):\n",
    "        # np.correlate computes C_{v}[k] = sum_n v[n+k] * v[n]\n",
    "        corr = np.correlate(v,v,mode=\"full\") # correlate returns even array [0:2*nums-1] centered at nums-1\n",
    "        return corr[len(v)-1:]/len(v) # take positive values and normalize by number of points\n",
    "    ax.plot(auto_correlate(dprice1), label=r'$M=1$')\n",
    "    ax.plot(auto_correlate(dprice10), label=r'$M=10$')\n",
    "    ax.set_xlim(5e-1,1e3)\n",
    "    ax.set_ylim(-0.2, 1.0)\n",
    "    ax.legend()\n",
    "    ax.semilogx()\n",
    "    ax.set_xlabel(r'Time n (ticks)')\n",
    "    ax.set_ylabel(r'Time Correlation function $C_{G_{1}}(t)$')"
   ]
  },
  {
   "cell_type": "code",
   "execution_count": null,
   "metadata": {},
   "outputs": [],
   "source": [
    "%matplotlib inline\n",
    "fig, ax = plt.subplots(figsize=(7.5,7.5))\n",
    "dprice = problem8('d+1')\n",
    "plot8(ax,dprice['M1'], dprice['M10'])\n",
    "fig.tight_layout()\n",
    "plt.show()"
   ]
  },
  {
   "cell_type": "markdown",
   "metadata": {},
   "source": [
    "# Homework for Week 6"
   ]
  },
  {
   "cell_type": "markdown",
   "metadata": {},
   "source": [
    "### Homework 1  (3 points)\n",
    "\n",
    "The original dealer model that we have used in the course is a minimal model. As such, there is ample room for improvement. One of the obvious modifications, to obtain a more realistic description, is to consider $N > 2$ dealers. The dynamics of the dealers are unchanged,\n",
    "\n",
    "\n",
    "$$\n",
    "p_i(t + \\Delta t) = p_i(t) + d\\langle\\Delta P\\rangle_M \\Delta t + c f_i(t), \\qquad i=1,2\\tag{M1}\n",
    "$$\n",
    "\n",
    "$$\n",
    "f_i(t) = \\begin{cases}\n",
    "    +\\Delta p & \\mathrm{prob.} 1/2 \\\\\n",
    "    -\\Delta p & \\mathrm{prob.} 1/2\\tag{M2}\n",
    "\\end{cases}\n",
    "$$\n",
    "\n",
    "$$\n",
    "\\langle\\Delta P\\rangle_M = \\frac{2}{M (M+1)}\\sum_{k=0}^{M-1}(M-k)\\Delta P(n-k)\\tag{M3}\n",
    "$$\n",
    "\n",
    "as well as the transaction condition\n",
    "$$\n",
    "\\lvert p_i(t) - p_j(t) \\rvert \\ge L\\tag{M4}.\n",
    "$$\n",
    "\n",
    "Thus, we have $N$ independent random walks (evolving according to Eq.(M1-M2)). Whenever the distance between the prices of any two dealers is greater than the spread $L$ (Eq. (M4)), these two (say $i$ and $j$) can carry out a transaction. If a transaction takes place between $i$ and $j$, the market price is updated to reflect this, $(P_{n+1} = \\frac{1}{2}(p_i(t) + p_j(t)))$, and the mid-prices of $i$ and $j$ are reset accordingly ($p_i(t+1) = p_j(t+1) = P_{n+1}$). We must also care about how the mid-prices of the remaining dealers ($k\\ne i\\ne j$) are affected by this transaction. Assume the following:\n",
    "\n",
    "- If more than two pairs of dealers satisfy the transaction condition, the dealer with the highest price will buy from the dealer with the lowest price. If more than two dealers have the same price, we chose only one of them. In this case, only one transaction between two dealers can take place at any given time.\n",
    "- The remaining dealers switch their prices to the new market price $(p_k(t+1) = P_{n+1})$ with a probability $r$, and they keep their old prices with probability ($1-r$). Here, $0\\le r\\le 1$ and $r$ is a constant equal for all dealers.\n",
    "\n",
    "To simulate a system with $N=100$ dealers with a switching rate $r=0.6$ the following erroneous modification of the model 2 code has been proposed."
   ]
  },
  {
   "cell_type": "code",
   "execution_count": null,
   "metadata": {
    "collapsed": true
   },
   "outputs": [],
   "source": [
    "params={'N':100,'r':0.6,'L':0.01,'c':0.01,'dp':0.01,'dt':0.01**2, 'd':1.00, 'M':10} # define model parameters\n",
    "p0 = np.ones(params['N'])*100.25\n",
    "\n",
    "def model2(params,p0,numt):\n",
    "    pswitch  = np.array([params['r'], 1.0-params['r']]) #switching rates \n",
    "\n",
    "    # compute running average Eq.(L6)\n",
    "    def avgprice(dpn): \n",
    "        M = len(dpn)     \n",
    "        weights  = np.array(range(1,M+1))*2.0/(M*(M+1))\n",
    "        return weights.dot(dpn)\n",
    "    \n",
    "    # return transaction candidate: pair (i,j) with larget price difference\n",
    "    def transactionPair(pt):  \n",
    "        return [np.min(pt), np.max(pt)]\n",
    "    \n",
    "    # update prices for transaction between the two dealers (i,j) and  return new market price \n",
    "    def transactionUpdate(i,j,pt):\n",
    "        newprice = np.average([pt[i], pt[j]]) # set mid price to new marker price\n",
    "        switch   = np.random.choice([True,False], p=pswitch,size=params['N']) # determine which dealers update price\n",
    "        switch[i]=switch[j]=True\n",
    "        pt[switch] = newprice\n",
    "        return newprice\n",
    "    \n",
    "    # ... variable initializations ...\n",
    "    mktprice = np.zeros(numt)   # initialize market price P(n)\n",
    "    dmktprice= np.zeros(numt)   # initialize change in price dP(n) needed for running average\n",
    "    ticktime = np.zeros(numt,dtype=np.int) #initialize array for tick times\n",
    "    price    = p0               #initialize dealer's mid-price (p1,p2)\n",
    "    time,tick= 0,0 # real time(t) and time time (n)\n",
    "    deltapm  = 0.0 # trend term d <dP>_m dt for current random walk\n",
    "    cdp      = params['c']*params['dp'] # define random step size\n",
    "    ddt      = params['d']*params['dt'] # define amplitude of trend term\n",
    "    \n",
    "    while tick < numt: # loop over ticks\n",
    "        [i,j] = transactionPair(price)\n",
    "        while np.abs(price[i]-price[j]) < params['L']: # transaction criterion Eq.(L1)\n",
    "            price = price + deltapm + np.random.choice([-cdp,cdp], size=params['N']) # random walk step Eq.(L4)\n",
    "            [i,j] = transactionPair(price)             # update transaction candidates\n",
    "            time += 1 #update real time \n",
    "\n",
    "        mktprice[tick] = transactionUpdate(i,j,price)  # save market price\n",
    "        \n",
    "        # ... finalize loop ...\n",
    "        dmktprice[tick]= mktprice[tick] - mktprice[np.max([0,tick-1]) # save dP(n) = P(n) - P(n-1)\n",
    "        ticktime[tick] = time # save transaction time\n",
    "        tick += 1             #update ticks\n",
    "        tick0 = np.max([0, tick - params['M']])       #compute tick start for running average\n",
    "        deltapm = avgprice(dmktprice[tick0:tick])*ddt #compute updated trend term for current tick time\n",
    "    return ticktime,mktprice"
   ]
  },
  {
   "cell_type": "markdown",
   "metadata": {},
   "source": [
    "Identify the mistake in the code from the following options.\n",
    "\n",
    "##### C1.   The traders not involved in the transaction do not update their prices correctly\n",
    "\n",
    "The random choice in the transactionUpdate function should be"
   ]
  },
  {
   "cell_type": "code",
   "execution_count": null,
   "metadata": {
    "collapsed": true
   },
   "outputs": [],
   "source": [
    "def transactionUpdate(i,j,pt):\n",
    "    #...\n",
    "    switch   = np.random.choice([False,True], p=pswitch,size=params['N']) \n",
    "    #..."
   ]
  },
  {
   "cell_type": "markdown",
   "metadata": {},
   "source": [
    "##### C2.   The price of a new transaction is incorrect\n",
    "The new price in the transactionUpdate function should be computed as "
   ]
  },
  {
   "cell_type": "code",
   "execution_count": null,
   "metadata": {
    "collapsed": true
   },
   "outputs": [],
   "source": [
    "def transactionUpdate(i,j,pt):\n",
    "    newprice = np.average(pt) \n",
    "    #..."
   ]
  },
  {
   "cell_type": "markdown",
   "metadata": {},
   "source": [
    "##### C3. The calculation of the transaction pair candidates ($i,j$) is incorrect\n",
    "\n",
    "The transactionPair function should be modified as follows"
   ]
  },
  {
   "cell_type": "code",
   "execution_count": null,
   "metadata": {
    "collapsed": true
   },
   "outputs": [],
   "source": [
    "def transactionPair(pt):  \n",
    "    return [np.argmin(pt), np.argmax(pt)]"
   ]
  },
  {
   "cell_type": "markdown",
   "metadata": {},
   "source": [
    "##### C4. The price update for the individual dealers is incorrect\n",
    "\n",
    "The correct update should be given as"
   ]
  },
  {
   "cell_type": "code",
   "execution_count": null,
   "metadata": {},
   "outputs": [],
   "source": [
    "while tick < numt: # loop over ticks\n",
    "    #...\n",
    "    while np.abs(price[i]-price[j]) < params['L']: \n",
    "        price = price + deltapm + np.random.choice([-cdp,cdp], 2) \n",
    "    #..."
   ]
  },
  {
   "cell_type": "markdown",
   "metadata": {},
   "source": [
    "### Answer 1\n",
    "\n",
    "- C3"
   ]
  },
  {
   "cell_type": "markdown",
   "metadata": {},
   "source": [
    "### Homework 2  (3 points)\n",
    "\n",
    "Continuing with the previous problem, we also would like to consider the case where the trend-following parameter $d_i$ is different for different dealers, such that\n",
    "\n",
    "$$\n",
    "p_i(t + \\Delta t) = p_i(t) + d_i\\langle\\Delta P\\rangle_M \\Delta t + c f_i(t), \\qquad i=1,2\\tag{M1}\n",
    "$$\n",
    "\n",
    "$$\n",
    " d_i = \\bar{d}(n) + \\Delta d_i\n",
    "$$\n",
    "where $\\bar{d}$ is the average trend-following effect (which is changing in time), and $\\Delta d_i$ describes each dealer's deviation from this average. We assume that the $\\Delta d_i$ are given by a random normal distribution with zero average and standard deviation $\\sigma$. Note that the $\\Delta d_i$, for a given $i$, are constant (characteristic of each dealer). However, the average trend-following effect is evolving in time according to the following rule (Yamada et al., PRE, 2009)\n",
    "$$\n",
    "\\bar{d}(n+1) = (1 - e_0) \\bar{d}(n) + \\phi(n)\n",
    "$$\n",
    "where $e_0$ is a constant ($0<e_0<1$) and $\\phi(n)$ is an independent random noise\n",
    "$$\n",
    "\\phi(n) = \\begin{cases}\n",
    "+0.01 & \\text{probability 1/2} \\\\\n",
    "-0.01 & \\text{probability 1/2}\n",
    "\\end{cases}\n",
    "$$\n",
    "\n",
    "The following modifications to the (corrected) code of the previous exercise have been proposed and used to simulate a system with $e_0 = 10^{-4}$ and $\\sigma = 0.1$. Note that unchanged blocks from the previous code are not shown."
   ]
  },
  {
   "cell_type": "code",
   "execution_count": null,
   "metadata": {
    "collapsed": true
   },
   "outputs": [],
   "source": [
    "params={'e0':1e-4,'sigma':0.1,'N':100,'r':0.6,'L':0.01,'c':0.01,'dp':0.01,'dt':0.01**2, 'd':1.00, 'M':10} # define model parameters\n",
    "p0  = np.ones(params['N'])*100.25\n",
    "def model2(params,p0,numt):\n",
    "    pswitch  = np.array([1.0-params['r'], params['r']]) #switching rates \n",
    "    \n",
    "    # compute running average Eq.(L6)\n",
    "    def avgprice(dpn): \n",
    "    #...\n",
    "\n",
    "    # return indices (i,j) of dealers with smallest and largest prices\n",
    "    def transactionPair(pt):  \n",
    "    # ...\n",
    "\n",
    "    # update prices for transaction between the two dealers (i,j) and  return new market price\n",
    "    def transactionUpdate(i,j,pt):\n",
    "    # ...\n",
    "\n",
    "    # ... variable initializations\n",
    "    deltapm  = 0.0                                           # trend term <dP>_m dt for current random walk\n",
    "    dbar     = params['d']                                   # define average trend following effect \\bar{d}\n",
    "    di       = params['sigma']*np.random.randn(params['N'])  # trend following parameter for dealer i\n",
    "\n",
    "    while tick < numt: # loop over ticks\n",
    "        [i,j]    = transactionPair(price)   # transaction candidate\n",
    "        while np.abs(price[i]-price[j]) < params['L']: # transaction criterion Eq.(L1)\n",
    "            price = price + deltapm*di + np.random.choice([-cdp,cdp], size=params['N'])  # random walk step Eq. (L4)\n",
    "            [i,j] = transactionPair(price) # update transaction candidate\n",
    "            time += 1                      # update real time\n",
    "\n",
    "        dbar = (1.0 - params['e0'])*dbar + np.random.choice([0.01,-0.01])  \n",
    "        mktprice[tick] = transactionUpdate(i,j,price)\n",
    "        \n",
    "        # ... finalize loop \n",
    "        tick += 1             # update ticks\n",
    "        tick0 = np.max([0, tick - params['M']])       # compute tick start for running average\n",
    "        deltapm = avgprice(dmktprice[tick0:tick])*params['dt'] # compute updated trend term for current tick time\n",
    "    return ticktime,mktprice"
   ]
  },
  {
   "cell_type": "markdown",
   "metadata": {},
   "source": [
    "However, there there is still a problem with this new code. Identify the mistake from the following options\n",
    "\n",
    "##### C1.   The average trend following behavior, as given by $\\bar{d}$, is not calculated correctly.\n",
    "The correct value for $\\bar{d}$ si given by"
   ]
  },
  {
   "cell_type": "code",
   "execution_count": null,
   "metadata": {
    "collapsed": true
   },
   "outputs": [],
   "source": [
    "def model2(params,p0,numt):\n",
    "    # ...\n",
    "    while tick < numt: # loop over ticks\n",
    "        while np.abs(price[i]-price[j]) < params['L']: # transaction criterion Eq.(L1)\n",
    "            #...\n",
    "        #...\n",
    "        dbar = (1.0 - params['e0'])*dbar + np.random.choice([0.01,-0.01], size=params['N']) # update trend parameter\n",
    "        #..."
   ]
  },
  {
   "cell_type": "markdown",
   "metadata": {},
   "source": [
    "##### C2.   The price is not correctly updated\n",
    "The correct value for the new price should be calculated as follows"
   ]
  },
  {
   "cell_type": "code",
   "execution_count": null,
   "metadata": {
    "collapsed": true
   },
   "outputs": [],
   "source": [
    "def model2(params,p0,numt):\n",
    "    # ...\n",
    "    while tick < numt: # loop over ticks\n",
    "        while np.abs(price[i]-price[j]) < params['L']: # transaction criterion Eq.(L1)\n",
    "            price = price + deltapm*(dbar + di) + np.random.choice([-cdp, cdp], sipe=params['N']) # price update\n",
    "            #...\n",
    "        #..."
   ]
  },
  {
   "cell_type": "markdown",
   "metadata": {},
   "source": [
    "##### C3.   The average trend following behavior, as given by $\\bar{d}$, is not calculated correctly.\n",
    "$\\bar{d}$ should be updated at every time step as follows"
   ]
  },
  {
   "cell_type": "code",
   "execution_count": null,
   "metadata": {
    "collapsed": true
   },
   "outputs": [],
   "source": [
    "def model2(params,p0,numt):\n",
    "    # ...\n",
    "    while tick < numt: # loop over ticks\n",
    "        while np.abs(price[i]-price[j]) < params['L']: # transaction criterion Eq.(L1)\n",
    "            # price update ...\n",
    "            dbar = (1.0 - params['e0'])*dbar + np.random.choice([0.01,-0.01])\n",
    "            # transaction candidate ...\n",
    "        #..."
   ]
  },
  {
   "cell_type": "markdown",
   "metadata": {},
   "source": [
    "##### C4.   The price deviations of the individual dealers, as given by $\\Delta d_i$ are not updated  \n",
    "$\\Delta d_i$ should be updated at each time step"
   ]
  },
  {
   "cell_type": "code",
   "execution_count": null,
   "metadata": {},
   "outputs": [],
   "source": [
    "def model2(params,p0,numt):\n",
    "    # ...\n",
    "    while tick < numt: # loop over ticks\n",
    "        while np.abs(price[i]-price[j]) < params['L']: # transaction criterion Eq.(L1)\n",
    "            di = params['sigma']*np.random.randn(params['N'])\n",
    "            # price update...\n",
    "            # transaction candidate\n",
    "        # ..."
   ]
  },
  {
   "cell_type": "markdown",
   "metadata": {},
   "source": [
    "### Answer 1\n",
    "\n",
    "- C2"
   ]
  }
 ],
 "metadata": {
  "anaconda-cloud": {},
  "kernelspec": {
   "display_name": "Python 3",
   "language": "python",
   "name": "python3"
  },
  "language_info": {
   "codemirror_mode": {
    "name": "ipython",
    "version": 3
   },
   "file_extension": ".py",
   "mimetype": "text/x-python",
   "name": "python",
   "nbconvert_exporter": "python",
   "pygments_lexer": "ipython3",
   "version": "3.6.3"
  }
 },
 "nbformat": 4,
 "nbformat_minor": 2
}
