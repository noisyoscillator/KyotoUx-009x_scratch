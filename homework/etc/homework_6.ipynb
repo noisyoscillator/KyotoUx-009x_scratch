{
 "cells": [
  {
   "cell_type": "markdown",
   "metadata": {},
   "source": [
    "# 1"
   ]
  },
  {
   "cell_type": "code",
   "execution_count": null,
   "metadata": {
    "collapsed": false
   },
   "outputs": [],
   "source": [
    "import numpy as np\n",
    "import pandas as pd\n",
    "import matplotlib.pyplot as plt\n",
    "plt.style.use('ggplot')\n",
    "pltparams = {'legend.fontsize': 16, 'axes.labelsize': 20, 'axes.titlesize': 20,\n",
    "             'xtick.labelsize': 12, 'ytick.labelsize':12, 'figure.figsize': (7.5, 7.5),}\n",
    "plt.rcParams.update(pltparams)\n",
    "def problem1(cols,taus):\n",
    "    from datetime import datetime\n",
    "    from pandas_datareader import data as pdr\n",
    "    from pandas_datareader import wb as pwb\n",
    "    # Logarithmic return of price time series\n",
    "    def logreturn(Pt,tau=1):\n",
    "        return np.log(Pt[tau:]) - np.log(Pt[0:-tau]) # Eq.(J2) : G_tau(t) = log(S(t+tau)) - log(S(t)) \n",
    "    # Normalize data to have unit variance (<(x - <x>)^2> = 1)\n",
    "    def normalized(data):\n",
    "        return (data/np.sqrt(np.var(data)))\n",
    "    # Add G_tau to data frame object\n",
    "    def computeReturn(data, name, tau):\n",
    "        data[name]=pd.Series(normalized(logreturn(data['Adj Close'].values, tau)),index=data.index[:-tau])\n",
    "        \n",
    "    # define time interval\n",
    "    end_time   = datetime(2016, 12, 31)\n",
    "    start_time = datetime(1989, 1, 1)\n",
    "    apple      = pdr.DataReader('AAPL','yahoo',start_time,end_time)\n",
    "    for col,tau in zip(cols,taus):\n",
    "        computeReturn(apple, col, tau)\n",
    "    return apple\n",
    "def plot1(axes, data, cols, labels, colors):\n",
    "    [ax,bx] = axes\n",
    "    for col,lbl,clr in zip(cols,labels,colors):\n",
    "        data[col].plot(ax=ax,alpha=0.8, color=clr)\n",
    "        data[col].hist(ax=bx,alpha=0.6, normed=True, bins=40, lw=0, color=clr, label=lbl)\n",
    "    ax.set_ylim([-5,5])\n",
    "    bx.set_xlim([-5,5])\n",
    "    bx.set_ylim([0,0.6])\n",
    "    bx.legend()\n",
    "    ax.set_ylabel('Normalized price return $G_n(t)$')\n",
    "    bx.set_xlabel('Normalized price return $G_n(t)$')\n",
    "    bx.set_ylabel('Probability Distribution')"
   ]
  },
  {
   "cell_type": "code",
   "execution_count": null,
   "metadata": {
    "collapsed": false
   },
   "outputs": [],
   "source": [
    "%matplotlib inline\n",
    "cols,taus = ['G30','G90','G180'], [30,90,180]\n",
    "apple = problem1(cols, taus)\n",
    "\n",
    "fig, axes = plt.subplots(figsize=(15.0,7.5), ncols=2)\n",
    "plot1(axes, apple, cols, [r'$G_{30}$', r'$G_{90}$', r'$G_{180}$'], ['k','r', 'b'])\n",
    "fig.tight_layout()\n",
    "fig.savefig('../fig/06/G03.png')\n",
    "plt.show()"
   ]
  },
  {
   "cell_type": "code",
   "execution_count": null,
   "metadata": {
    "collapsed": false
   },
   "outputs": [],
   "source": [
    "%matplotlib inline\n",
    "fig, axes = plt.subplots(figsize=(15.0,7.5), ncols=2)\n",
    "\n",
    "cols,taus = ['G2','G5','G10'], [2,5,10]\n",
    "apple = problem1(cols, taus)\n",
    "plot1(axes, apple, cols, [r'$G_{30}$', r'$G_{90}$', r'$G_{180}$'], ['k','r', 'b'])\n",
    "fig.tight_layout()\n",
    "fig.savefig('../fig/06/G01.png')\n",
    "plt.show()"
   ]
  },
  {
   "cell_type": "code",
   "execution_count": null,
   "metadata": {
    "collapsed": false
   },
   "outputs": [],
   "source": [
    "%matplotlib inline\n",
    "fig, axes = plt.subplots(figsize=(15.0,7.5), ncols=2)\n",
    "\n",
    "cols,taus = ['G5','G10','G30'], [5,10,30]\n",
    "apple = problem1(cols, taus)\n",
    "plot1(axes, apple, cols, [r'$G_{30}$', r'$G_{90}$', r'$G_{180}$'], ['k','r', 'b'])\n",
    "fig.tight_layout()\n",
    "fig.savefig('../fig/06/G02.png')\n",
    "plt.show()"
   ]
  },
  {
   "cell_type": "code",
   "execution_count": null,
   "metadata": {
    "collapsed": false
   },
   "outputs": [],
   "source": [
    "%matplotlib inline\n",
    "fig, axes = plt.subplots(figsize=(15.0,7.5), ncols=2)\n",
    "\n",
    "cols,taus = ['G90','G180','G360'], [90,180,360]\n",
    "apple = problem1(cols, taus)\n",
    "plot1(axes, apple, cols, [r'$G_{30}$', r'$G_{90}$', r'$G_{180}$'], ['k','r', 'b'])\n",
    "fig.tight_layout()\n",
    "fig.savefig('../fig/06/G04.png')\n",
    "plt.show()"
   ]
  },
  {
   "cell_type": "code",
   "execution_count": null,
   "metadata": {
    "collapsed": false
   },
   "outputs": [],
   "source": [
    "%matplotlib inline\n",
    "fig, axes = plt.subplots(figsize=(15.0,7.5), ncols=2)\n",
    "\n",
    "cols,taus = ['G5','G90','G360'], [5,90,360]\n",
    "apple = problem1(cols, taus)\n",
    "plot1(axes, apple, cols, [r'$G_{30}$', r'$G_{90}$', r'$G_{180}$'], ['k','r', 'b'])\n",
    "fig.tight_layout()\n",
    "fig.savefig('../fig/06/G05.png')\n",
    "plt.show()"
   ]
  },
  {
   "cell_type": "markdown",
   "metadata": {},
   "source": [
    "# 2"
   ]
  },
  {
   "cell_type": "code",
   "execution_count": null,
   "metadata": {
    "collapsed": false
   },
   "outputs": [],
   "source": [
    "import numpy as np\n",
    "import pandas as pd\n",
    "import matplotlib.pyplot as plt\n",
    "plt.style.use('ggplot')\n",
    "pltparams = {'legend.fontsize': 16, 'axes.labelsize': 20, 'axes.titlesize': 20,\n",
    "             'xtick.labelsize': 12, 'ytick.labelsize':12, 'figure.figsize': (7.5, 7.5),}\n",
    "plt.rcParams.update(pltparams)\n",
    "def problem2(cols,taus):\n",
    "    from datetime import datetime\n",
    "    from pandas_datareader import data as pdr\n",
    "    from pandas_datareader import wb as pwb\n",
    "    # Logarithmic return of price time series\n",
    "    def logreturn(Pt,tau=1):\n",
    "        return np.log(Pt[tau:]) - np.log(Pt[0:-tau]) # Eq.(J2) : G_tau(t) = log(S(t+tau)) - log(S(t)) \n",
    "    # Normalize data to have unit variance (<(x - <x>)^2> = 1)\n",
    "    def normalized(data):\n",
    "        return (data/np.sqrt(np.var(data)))\n",
    "    # Add G_tau to data frame object\n",
    "    def computeReturn(data, name, tau):\n",
    "        data[name]=pd.Series(normalized(logreturn(data['Adj Close'].values, tau)),index=data.index[:-tau])\n",
    "\n",
    "    # define time interval\n",
    "    end_time   = datetime(2016, 12, 31)\n",
    "    start_time = datetime(1989, 1, 1)\n",
    "    apple      = pdr.DataReader('AAPL','yahoo',start_time,end_time)\n",
    "    for col,tau in zip(cols,taus):\n",
    "        computeReturn(apple, col, tau)\n",
    "    return apple\n",
    "def plot2(ax, data, cols, labels, colors):\n",
    "    # compute normalized probability distribution function\n",
    "    def pdf(data,bins=50):\n",
    "        hist, edges = np.histogram(data[~np.isnan(data)], bins=bins, density=True) # remove NaNs and compute histogram (returns bar heights and bar edges)\n",
    "        edges   = (edges[:-1] + edges[1:])/2.0 # get bar centers\n",
    "        nonzero = hist > 0.0                   # only keep non-zero points \n",
    "        return edges[nonzero], hist[nonzero]\n",
    "\n",
    "    for col,lbl,clr in zip(cols,labels,colors):\n",
    "        edges, hist = pdf(np.abs(data[col]), bins=20)\n",
    "        ax.plot(edges, hist, label=lbl, lw=3, color=clr)\n",
    "\n",
    "    #plot gaussian\n",
    "    x = np.logspace(-1, 1.2)\n",
    "    ax.plot(x,np.abs(np.exp(-x**2/2)/np.sqrt(2*np.pi)),lw=6,ls='--',color='gray',alpha=0.8,label=r'Gaussian')\n",
    "        \n",
    "    ax.set_ylim(1e-4, 2e0)\n",
    "    ax.set_xlim(1e-1, 2e1)\n",
    "    ax.semilogx()\n",
    "    ax.semilogy()\n",
    "    ax.legend(loc=3)\n",
    "    ax.set_xlabel(r'Absolute normalized price return $|G_n|$')\n",
    "    ax.set_ylabel(r'Probability distribution')"
   ]
  },
  {
   "cell_type": "code",
   "execution_count": null,
   "metadata": {
    "collapsed": false
   },
   "outputs": [],
   "source": [
    "%matplotlib inline\n",
    "cols,taus = ['G30','G90','G180'], [30,90,180]\n",
    "apple = problem2(cols, taus)\n",
    "\n",
    "fig, ax = plt.subplots(figsize=(7.5,7.5))\n",
    "plot2(ax, apple, cols, [r'$G_{30}$', r'$G_{90}$', r'$G_{180}$'], ['k','r', 'b'])\n",
    "fig.tight_layout()\n",
    "fig.savefig('../fig/06/G12.png')\n",
    "plt.show()"
   ]
  },
  {
   "cell_type": "code",
   "execution_count": null,
   "metadata": {
    "collapsed": false
   },
   "outputs": [],
   "source": [
    "%matplotlib inline\n",
    "cols,taus = ['G2','G5','G10'], [2,5,10]\n",
    "apple = problem2(cols, taus)\n",
    "\n",
    "fig, ax = plt.subplots(figsize=(7.5,7.5))\n",
    "plot2(ax, apple, cols, [r'$G_{30}$', r'$G_{90}$', r'$G_{180}$'], ['k','r', 'b'])\n",
    "fig.tight_layout()\n",
    "fig.savefig('../fig/06/G11.png')\n",
    "plt.show()"
   ]
  },
  {
   "cell_type": "code",
   "execution_count": null,
   "metadata": {
    "collapsed": false
   },
   "outputs": [],
   "source": [
    "%matplotlib inline\n",
    "cols,taus = ['G5','G10','G30'], [5,10,30]\n",
    "apple = problem2(cols, taus)\n",
    "\n",
    "fig, ax = plt.subplots(figsize=(7.5,7.5))\n",
    "plot2(ax, apple, cols, [r'$G_{30}$', r'$G_{90}$', r'$G_{180}$'], ['k','r', 'b'])\n",
    "fig.tight_layout()\n",
    "fig.savefig('../fig/06/G15.png')\n",
    "plt.show()"
   ]
  },
  {
   "cell_type": "code",
   "execution_count": null,
   "metadata": {
    "collapsed": false
   },
   "outputs": [],
   "source": [
    "%matplotlib inline\n",
    "cols,taus = ['G90','G180','G360'], [90,180,360]\n",
    "apple = problem2(cols, taus)\n",
    "\n",
    "fig, ax = plt.subplots(figsize=(7.5,7.5))\n",
    "plot2(ax, apple, cols, [r'$G_{30}$', r'$G_{90}$', r'$G_{180}$'], ['k','r', 'b'])\n",
    "fig.tight_layout()\n",
    "fig.savefig('../fig/06/G14.png')\n",
    "plt.show()"
   ]
  },
  {
   "cell_type": "code",
   "execution_count": null,
   "metadata": {
    "collapsed": false
   },
   "outputs": [],
   "source": [
    "%matplotlib inline\n",
    "cols,taus = ['G5','G90','G360'], [5,90,360]\n",
    "apple = problem2(cols, taus)\n",
    "\n",
    "fig, ax = plt.subplots(figsize=(7.5,7.5))\n",
    "plot2(ax, apple, cols, [r'$G_{30}$', r'$G_{90}$', r'$G_{180}$'], ['k','r', 'b'])\n",
    "fig.tight_layout()\n",
    "fig.savefig('../fig/06/G13.png')\n",
    "plt.show()"
   ]
  },
  {
   "cell_type": "markdown",
   "metadata": {},
   "source": [
    "# 4"
   ]
  },
  {
   "cell_type": "code",
   "execution_count": null,
   "metadata": {
    "collapsed": true
   },
   "outputs": [],
   "source": [
    "import numpy as np\n",
    "import pandas as pd\n",
    "import matplotlib.pyplot as plt\n",
    "plt.style.use('ggplot')\n",
    "pltparams = {'legend.fontsize': 16, 'axes.labelsize': 20, 'axes.titlesize': 20,\n",
    "             'xtick.labelsize': 12, 'ytick.labelsize':12, 'figure.figsize': (7.5, 7.5),}\n",
    "plt.rcParams.update(pltparams)\n",
    "def problem4(tau1, tau2):\n",
    "    # Logarithmic return of price time series\n",
    "    def logreturn(Pt,tau=1):\n",
    "        return np.log(Pt[tau:]) - np.log(Pt[0:-tau]) # Eq.(J2) : G_tau(t) = log(S(t+tau)) - log(S(t)) \n",
    "    # Normalize data to have unit variance (<(x - <x>)^2> = 1)\n",
    "    def normalized(data):\n",
    "        return (data/np.sqrt(np.var(data)))\n",
    "\n",
    "    dmy, data = np.loadtxt('../data/06/model1.txt', unpack=True)\n",
    "    return normalized(logreturn(data, tau1)), normalized(logreturn(data,tau2))\n",
    "\n",
    "def plot4(ax,g1,g16):\n",
    "    def pdf(data,bins=50):\n",
    "        hist,edges=np.histogram(data[~np.isnan(data)],bins=bins,density=True) # remove NaNs and compute histogram\n",
    "        edges   = (edges[:-1] + edges[1:])/2.0 # get bar center\n",
    "        nonzero = hist > 0.0                   # non-zero points \n",
    "        return edges[nonzero], hist[nonzero]\n",
    "\n",
    "    for data,lbl in zip([g1,g16], [r'$G_1$', r'$G_{16}$']):\n",
    "        edges, hist = pdf(np.abs(data), bins=25)\n",
    "        ax.plot(edges, hist, lw=5, label=lbl)\n",
    "\n",
    "    x = np.linspace(0, 5)\n",
    "    ax.plot(x,2*np.exp(-x**2/2)/np.sqrt(2*np.pi),lw=6,ls='--',color='gray',alpha=0.6,label=r'Gaussian')\n",
    "    ax.plot(x, 2*np.exp(-1.5*x),lw=6,color='k',ls='--',alpha=0.8,label=r'Exponential')\n",
    "    ax.semilogy()\n",
    "    ax.set_ylim([5e-4,1])\n",
    "    ax.set_xlim([5e-1,6])\n",
    "    ax.legend()\n",
    "    ax.set_xlabel(r'Absolute normalized price return $|G_1|$')\n",
    "    ax.set_ylabel(r'Probability density')\n"
   ]
  },
  {
   "cell_type": "code",
   "execution_count": null,
   "metadata": {
    "collapsed": false
   },
   "outputs": [],
   "source": [
    "%matplotlib inline\n",
    "fig, ax = plt.subplots(figsize=(7.5,7.5))\n",
    "g1,g2 = problem4(1,16)\n",
    "plot4(ax, g1, g2)\n",
    "fig.tight_layout()\n",
    "fig.savefig('../fig/06/G24.png')\n",
    "plt.show()"
   ]
  },
  {
   "cell_type": "code",
   "execution_count": null,
   "metadata": {
    "collapsed": false
   },
   "outputs": [],
   "source": [
    "%matplotlib inline\n",
    "fig, ax = plt.subplots(figsize=(7.5,7.5))\n",
    "g1,g2 = problem4(1,2)\n",
    "plot4(ax, g1, g2)\n",
    "fig.tight_layout()\n",
    "fig.savefig('../fig/06/G21.png')\n",
    "plt.show()"
   ]
  },
  {
   "cell_type": "code",
   "execution_count": null,
   "metadata": {
    "collapsed": false
   },
   "outputs": [],
   "source": [
    "%matplotlib inline\n",
    "fig, ax = plt.subplots(figsize=(7.5,7.5))\n",
    "g1,g2 = problem4(2,4)\n",
    "plot4(ax, g1, g2)\n",
    "fig.tight_layout()\n",
    "fig.savefig('../fig/06/G22.png')\n",
    "plt.show()"
   ]
  },
  {
   "cell_type": "code",
   "execution_count": null,
   "metadata": {
    "collapsed": false
   },
   "outputs": [],
   "source": [
    "%matplotlib inline\n",
    "fig, ax = plt.subplots(figsize=(7.5,7.5))\n",
    "g1,g2 = problem4(8,16)\n",
    "plot4(ax, g1, g2)\n",
    "fig.tight_layout()\n",
    "fig.savefig('../fig/06/G23.png')\n",
    "plt.show()"
   ]
  }
 ],
 "metadata": {
  "kernelspec": {
   "display_name": "Python 3",
   "language": "python",
   "name": "python3"
  },
  "language_info": {
   "codemirror_mode": {
    "name": "ipython",
    "version": 3
   },
   "file_extension": ".py",
   "mimetype": "text/x-python",
   "name": "python",
   "nbconvert_exporter": "python",
   "pygments_lexer": "ipython3",
   "version": "3.5.2"
  }
 },
 "nbformat": 4,
 "nbformat_minor": 2
}
