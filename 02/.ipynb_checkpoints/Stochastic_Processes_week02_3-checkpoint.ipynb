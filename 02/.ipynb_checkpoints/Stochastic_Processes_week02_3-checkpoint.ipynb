{
 "cells": [
  {
   "cell_type": "markdown",
   "metadata": {
    "slideshow": {
     "slide_type": "slide"
    }
   },
   "source": [
    "<div style=\"text-align: center;\">\n",
    "<FONT size=\"8\">\n",
    "<BR><BR><b>\n",
    "Stochastic Processes: <BR><BR>Data Analysis and Computer Simulation  \n",
    "</b>\n",
    "</FONT>\n",
    "<BR><BR><BR>\n",
    "\n",
    "<FONT size=\"7\">\n",
    "<b>\n",
    "Distribution function and random number\n",
    "</b>\n",
    "</FONT> \n",
    "<BR><BR><BR>\n",
    "\n",
    "<FONT size=\"7\">\n",
    "<b>\n",
    "-The central limit theorem-\n",
    "</b>\n",
    "</FONT>\n",
    "<BR>\n",
    "</div>"
   ]
  },
  {
   "cell_type": "markdown",
   "metadata": {
    "slideshow": {
     "slide_type": "notes"
    }
   },
   "source": [
    "#### Note 1\n",
    "\n",
    "- In this plot, we will introduce the \"Central Limit Theorem\", which is probably the single most important theorem in the theory of probability. \n",
    "\n",
    "- The theorem helps to explain why the Gaussian or Normal distribution finds such widespread applications in natural and social sciences. \n",
    "\n",
    "- Briefly stated, it says that the sum of N independent random variables, which can be drawn from any arbitrary, but well behaved distributions, will converge to a Gaussian distribution in the limit of large N.\n",
    "\n",
    "- We will discuss this in more detail later, but first we will begin by working out some practical examples that show the central limit theorem in practice."
   ]
  },
  {
   "cell_type": "markdown",
   "metadata": {
    "slideshow": {
     "slide_type": "slide"
    }
   },
   "source": [
    "# Binomial distribution $\\rightarrow$ Gauss distribution"
   ]
  },
  {
   "cell_type": "markdown",
   "metadata": {},
   "source": [
    "## From the previous lesson\n",
    "\n",
    "- The binomial distribution becomes equivalent to the Gaussian distribution in the limit $n, M\\gg 1$, as shown in the 1st plot of this week.\n",
    "\n",
    "\\begin{equation}\n",
    "P(n)=\\frac{M!}{n!(M-n)!}{{p}^{n}}{{(1-p)}^{M-n}}\\tag{C6}\n",
    "\\end{equation}\n",
    "\n",
    "\\begin{equation}\n",
    "\\hspace{20mm}\n",
    "\\xrightarrow[n\\to cont.]{n,M\\gg 1}\\ \n",
    "% P(n)=\n",
    "\\frac{1}{\\sqrt{2\\pi {{\\sigma }^{2}}}}\\exp \\left[ -\\frac{{{(n-{{\\mu }_{1}})}^{2}}}{2{{\\sigma }^{2}}} \\right]\\tag{C1}\n",
    "\\end{equation}\n",
    "\n",
    "\\begin{equation}\n",
    "\\hspace{20mm}\n",
    "\\mu_1=Mp,\\ \\ \\ \\ \n",
    "\\sigma^2=Mp(1-p) \\tag{C7, C8}\n",
    "\\end{equation}"
   ]
  },
  {
   "cell_type": "markdown",
   "metadata": {
    "slideshow": {
     "slide_type": "notes"
    }
   },
   "source": [
    "#### Note 2\n",
    "\n",
    "-  In a previous lesson, we introduced the binomial distribution P(n,M), which describes a random process with two possible outcomes. The standard example is that of a coin toss, which can come up heads with probability p, and tails with probability (1-p).\n",
    "- The probability to observe n heads after M throws is given by equation (C6).\n",
    "- In the limit when both n and M are very large, we have seen that the binomial distribution converges to the Gaussian distribution with average $\\mu_1 = M p$ and variance $\\sigma^2 = M p (1-p)$.\n",
    "- We will see that this is a trivial application of the central limit theorem. \n",
    "- It works, because the result of each coin toss is given by an independent random process with a well defined average and variance."
   ]
  },
  {
   "cell_type": "markdown",
   "metadata": {
    "slideshow": {
     "slide_type": "slide"
    }
   },
   "source": [
    "## Numerical experiment 1\n",
    "\n",
    "- While the proof for the equivalence has been given in the supplemental note, let us examine this by performing numerical experiments for various values of $M=1,2,4,10,100$ and $1000$."
   ]
  },
  {
   "cell_type": "markdown",
   "metadata": {
    "slideshow": {
     "slide_type": "-"
    }
   },
   "source": [
    "### Include libraries"
   ]
  },
  {
   "cell_type": "code",
   "execution_count": 1,
   "metadata": {
    "collapsed": true
   },
   "outputs": [],
   "source": [
    "% matplotlib inline\n",
    "import numpy as np # import numpy library as np\n",
    "import math # use mathematical functions defined by the C standard\n",
    "import matplotlib.pyplot as plt # import pyplot library as plt \n",
    "plt.style.use('ggplot') # use \"ggplot\" style for graphs"
   ]
  },
  {
   "cell_type": "markdown",
   "metadata": {
    "slideshow": {
     "slide_type": "notes"
    }
   },
   "source": [
    "#### Note 3\n",
    "\n",
    "- While the proof for the equivalence has been given in the supplemental note, let us examine this by performing numerical experiments for various values of M using Python.\n",
    "- As always, we begin by importing the necessary numerical and graphical libraries"
   ]
  },
  {
   "cell_type": "code",
   "execution_count": 2,
   "metadata": {
    "collapsed": false,
    "slideshow": {
     "slide_type": "slide"
    }
   },
   "outputs": [
    {
     "name": "stdout",
     "output_type": "stream",
     "text": [
      "p = 0.5 M = 50\n"
     ]
    },
    {
     "data": {
      "image/png": "[encoded data removed]",
      "text/plain": [
       "<matplotlib.figure.Figure at 0x10ae69f60>"
      ]
     },
     "metadata": {},
     "output_type": "display_data"
    }
   ],
   "source": [
    "p = 0.5    # set p, propability to obtain \"head\" from a coin toss\n",
    "M = 50      # set M, number of tosses in one experiment\n",
    "N = 100000 # number of experiments\n",
    "ave = M*p\n",
    "std = np.sqrt(M*p*(1-p))\n",
    "print('p =',p,'M =',M)\n",
    "np.random.seed(0) # initialize the random number generator with seed=0\n",
    "X = np.random.binomial(M,p,N) # generate the number of head come up N times store it as X\n",
    "nmin=np.int(ave-std*5)\n",
    "nmax=np.int(ave+std*5)\n",
    "nbin=nmax-nmin+1\n",
    "plt.hist(X,range=[nmin,nmax],bins=nbin,normed=True) # plot normalized histgram of R\n",
    "x = np.arange(nmin,nmax,0.01/std) # create array of x from nmin to nmax with increment 0.01/std\n",
    "y = np.exp(-(x-ave)**2/(2*std**2))/np.sqrt(2*np.pi*std**2) # calculate the theoretical distribution\n",
    "plt.plot(x,y,color='b') # plot y vs. x with blue line\n",
    "plt.xlabel(r'$n$',fontsize=16) # set x-label\n",
    "plt.ylabel(r'$P(n)$',fontsize=16) # set y-label\n",
    "plt.legend([r'Gauss',r'histgram'], fontsize=16) # set legends\n",
    "plt.show() # display plots"
   ]
  },
  {
   "cell_type": "markdown",
   "metadata": {
    "slideshow": {
     "slide_type": "notes"
    }
   },
   "source": [
    "#### Note 4\n",
    "\n",
    "- In this code example, we assume we are using a fair coin, such that p = 1-p = 0.5.\n",
    "- The experiment consists in performing M coin tosses and counting the number of heads. \n",
    "- To get reliable statistics we repeat this for N = 100,000 times, and calculate the histogram of the data.\n",
    "- The sampling is performed in one line, using numpy's built-in binomial function, and the sampled data is stored as an array X of size N.\n",
    "- Remember, each element of the X array contains the number of heads after M coin-tosses.\n",
    "- We plot the histogram using the \"hist\" function.\n",
    "- Finally, we compare the results of our experiment with the corresponding Gaussian distribution shown in Eq.(C1).\n",
    "- For this, we generate an array of x values in a range 5 standard deviations to the right and left of the average value, and calculate the theoretical Gaussian distribution over this array.\n",
    "- If you run this code example, the results are plotted and overlayed on the histogram.\n",
    "- You should repeat this experiment for several values of M=1,2,4,10,100, and 1000, to see how the histogram converges towards the Gauss distribution.\n",
    "- The convergence is assured in the limit of large n and M. \n",
    "- In practice, you can know how large should M be for the two distributions to match."
   ]
  },
  {
   "cell_type": "markdown",
   "metadata": {
    "slideshow": {
     "slide_type": "slide"
    }
   },
   "source": [
    "## What we can learn from the experiment\n",
    "\n",
    "- Stochastic variable \"$s$\" is a result of single binary choice, \n",
    "\n",
    "\\begin{equation}\n",
    "s=0\\ {\\rm or}\\ 1 \n",
    "%\\tag{D1}\n",
    "\\end{equation}\n",
    "\n",
    "and Stochastic variable \"$n^{M}$\" is a sum of $M$ independent binary choices $s$, with the index $j$ representing the $j$-th choice.\n",
    "\n",
    "\\begin{equation}\n",
    "%\\color{red}\n",
    "{\n",
    "n^{M}=\\sum^{M}_{j=1}s_j} \n",
    "%\\tag{D4}\n",
    "\\end{equation}\n",
    "\n",
    "### For $M=1$ \n",
    "\n",
    "\\begin{equation}\n",
    "n^{M=1}=s_1=s=0\\ {\\rm or}\\ 1 \n",
    "\\tag{D1}\n",
    "\\end{equation}\n",
    "- Distribution function $\\rightarrow$ Binary choice,\n",
    "$P^{M=1}(0)=1-p, \\ P^{M=1}(1)=p, $ with\n",
    "\n",
    "\\begin{equation}\n",
    "\\hspace{15mm}\\mu^{M=1}_1=p, \\hspace{23mm} \\sigma_{M=1}^2=p(1-p) \\tag{D2, D3}\n",
    "\\end{equation}"
   ]
  },
  {
   "cell_type": "markdown",
   "metadata": {
    "slideshow": {
     "slide_type": "slide"
    }
   },
   "source": [
    "### For $M\\gg 1$ \n",
    "\n",
    "\\begin{equation}\n",
    "\\color{red}{\n",
    "n^{M}=\\sum^{M}_{j=1}s_j=\\sum^{M}_{j=1}n^{M=1}_j}  \\tag{D4}\n",
    "\\end{equation}\n",
    "- Distribution function $\\rightarrow$ Gaussian with\n",
    "\n",
    "\\begin{equation}\n",
    "%\\hspace{20mm}\n",
    "\\color{red}{\n",
    "\\mu^{M\\gg1}_1=M\\mu^{M=1}_1,\\hspace{20mm} \\sigma_{M\\gg1}^2=M\\sigma_{M=1}^2} \\tag{D5, D6}\n",
    "\\end{equation}"
   ]
  },
  {
   "cell_type": "markdown",
   "metadata": {
    "slideshow": {
     "slide_type": "notes"
    }
   },
   "source": [
    "#### Note 5\n",
    "\n",
    "- Let us discuss what we have seen in the experiments.\n",
    "- First we define a stochastic variable \"s\" which is a result of single binary choice from 0 or 1.\n",
    "- The total number of heads, after M tosses, is given by the sum of all \"s\" from the 1st to the M-th choices. \n",
    "- This defines a new stochastic variable $n^M$.\n",
    "- First, consider the case of a single coin toss for M=1, for which n of M is the same as a single binary choice $s$ as shown in Eq.(D1).\n",
    "- Since this random variable is drawn from a binomial distribution, the average and variance are given by equations (D2) and (D3). \n",
    "- Namely, the average number of heads, from one coin toss is equal to p, and the variance is equal to p*(1-p).\n",
    "\n",
    "(change slide)\n",
    "\n",
    "- Now, consider the case for arbitrary M. \n",
    "- As we already discussed above, n of M is given by the sum all \"s\" up to the M-th choices, or equivalently as the sum of M independent single coin toss results n of M=1 as shown in Eq.(D4).\n",
    "- In the limit when M is very large, we have already proven that this converges to a Gaussian.\n",
    "- The average and variance of this distribution, is just the average and variance of the distribution for a single coin toss multiplied by M, shown in Eqs.(D5) and (D6)."
   ]
  },
  {
   "cell_type": "markdown",
   "metadata": {
    "slideshow": {
     "slide_type": "slide"
    }
   },
   "source": [
    "# The central limiting theorem (CLT)"
   ]
  },
  {
   "cell_type": "markdown",
   "metadata": {
    "slideshow": {
     "slide_type": "-"
    }
   },
   "source": [
    "## Generalization of Eqs. (D4-D6) for $M\\gg 1$ \n",
    "\n",
    "### CLT for sum of stochastic variables\n",
    "\n",
    "- Stochastic variable \"$n^M$\" as a SUM of any $M$ independent stochastic variables $n^{M=1}$ with $\\mu_1^{M=1}$ and $\\sigma_{M=1}^2$,\n",
    "\n",
    "\\begin{equation}\n",
    "n^{M}=\\sum^{M}_{j=1}n^{M=1}_j \\tag{D7}\n",
    "\\end{equation}\n",
    "- Distribution function $\\rightarrow$ Gauss with\n",
    "\n",
    "\\begin{equation}\n",
    "%\\hspace{20mm}\n",
    "{\n",
    "\\mu^{M\\gg1}_1=M\\mu^{M=1}_1,\\hspace{20mm} \\sigma_{M\\gg1}^2=M\\sigma_{M=1}^2} \\tag{D8, D9}\n",
    "\\end{equation}\n"
   ]
  },
  {
   "cell_type": "markdown",
   "metadata": {
    "slideshow": {
     "slide_type": "notes"
    }
   },
   "source": [
    "#### Note 6\n",
    "- The previous relation between binomial and Gaussian distributions is in fact an example of the Central Limiting Theorem. \n",
    "- It is not valid only for the sum of random variables drawn from binomial distributions, but is applicable to any distributions with finite variance.\n",
    "- Thus, if we have a set of $M$ independent random variables, $n$ of M=1, with average and variance $\\mu_1$ and $\\sigma^2$ of M=1. \n",
    "- The sum of these random variables is itself a random variable, and in the limit when M is very large, it converges to a Gaussian distribution.\n",
    "- The average and variance of n of M >> 1, which is the sum of the M independent random variables, is given by Eqs.(D8) and (D9) which are generalizations of Eq.(D5) and (D6). \n",
    "- The average and variance of this sum are then M times the average and variance of the individual distribution."
   ]
  },
  {
   "cell_type": "markdown",
   "metadata": {
    "slideshow": {
     "slide_type": "slide"
    }
   },
   "source": [
    "### CLT for average of stochastic variables\n",
    "\n",
    "- Stochastic variable \"$n^M$\" as an AVERAGE of any $M$ independent stochastic variables with $\\mu^{M=1}$ and $\\sigma_{M=1}^2$,\n",
    "\n",
    "\\begin{equation}\n",
    "n^{M}=\\frac{1}{M}\\sum^{M}_{j=1}n^{M=1}_j \\tag{D10}\n",
    "\\end{equation}\n",
    "- Distribution function $\\rightarrow$ Gauss with\n",
    "\n",
    "\\begin{equation}\n",
    "%\\hspace{20mm}\n",
    "{\n",
    "\\mu^{M\\gg1}_1=\\mu^{M=1}_1,\\hspace{20mm} \\sigma_{M\\gg1}^2=\\frac{\\sigma_{M=1}^2}{M}} \\tag{D11, D12}\n",
    "\\end{equation}\n",
    "\n",
    "- Eqs. (D7-D12) is called \"the central limiting theorem\"."
   ]
  },
  {
   "cell_type": "markdown",
   "metadata": {
    "slideshow": {
     "slide_type": "notes"
    }
   },
   "source": [
    "#### Note 7\n",
    "\n",
    "- One of the most useful forms of the CLT appears when considering the average of a series of stochastic variables, not just the sum.\n",
    "- As before, let \"n_j\" of M=1 be a series of stochastic variables. \n",
    "- We assume they have average and variance of $\\mu_1$ and $\\sigma^2$ of M=1. \n",
    "- They should be independent and identically distributed, but other that that they can be drawn from any distribution with a finite variance.\n",
    "- The average of these stochastic variables is given by the weighted sum in Eq.(D10). \n",
    "- Apart from the factor of 1/M, this is exactly the same as we considered in the previous example.\n",
    "- Now, we know that in the limit of very large M, the distribution of this variable converges to a Gaussian. \n",
    "- However, because of the 1/M factor in Eq.(D10), the average and variance are now given by Eq.(D11) and (D12). \n",
    "- Notice that the average value of n of M is now equal to the average value of the n of M=1. \n",
    "- More importantly, the variance of n of M is the variance of n of M=1 divided by M."
   ]
  },
  {
   "cell_type": "markdown",
   "metadata": {
    "slideshow": {
     "slide_type": "slide"
    }
   },
   "source": [
    "# Uniform distribution $\\rightarrow$ Gauss distribution"
   ]
  },
  {
   "cell_type": "markdown",
   "metadata": {
    "slideshow": {
     "slide_type": "-"
    }
   },
   "source": [
    "## From CLT\n",
    "\n",
    "### For $M=1$ \n",
    "\n",
    "- Stochastic variable \"$x$\" is uniformly distributed between 0 and 1, \n",
    "\n",
    "\\begin{equation}\n",
    "x^{M=1}\\in[0:1]\n",
    "\\tag{D13}\n",
    "\\end{equation}\n",
    "- Distribution function: \n",
    "$P^{M=1}(x)=1 \\ ({\\rm for\\ } 0\\le x < 1),\\ P^{M=1}(x)=0\\ {\\rm (otherwise)}$\n",
    "\n",
    "\\begin{equation}\n",
    "\\hspace{15mm}\\mu^{M=1}_1=\\frac{1}{2}, \\hspace{23mm} \\sigma_{M=1}^2=\\frac{1}{12} \\tag{D14, D15}\n",
    "\\end{equation}"
   ]
  },
  {
   "cell_type": "markdown",
   "metadata": {
    "slideshow": {
     "slide_type": "slide"
    }
   },
   "source": [
    "### For $M\\gg 1$ \n",
    "\n",
    "- Stochastic variable \"$x$\" is a sum of $M$ independent uniform random numbers\n",
    "\n",
    "\\begin{equation}\n",
    "{\n",
    "x^{M}=\\sum^{M}_{j=1}x^{M=1}_j} \\tag{D16}\n",
    "\\end{equation}\n",
    "- Distribution function $\\rightarrow$ Gauss with\n",
    "\n",
    "\\begin{equation}\n",
    "%\\hspace{20mm}\n",
    "{\n",
    "\\mu^{M\\gg1}_1=M\\mu^{M=1}_1=\\frac{M}{2},\\hspace{20mm} \\sigma_{M\\gg1}^2=M\\sigma_{M=1}^2}=\\frac{M}{12} \\tag{D17, D18}\n",
    "\\end{equation}"
   ]
  },
  {
   "cell_type": "markdown",
   "metadata": {
    "slideshow": {
     "slide_type": "notes"
    }
   },
   "source": [
    "#### Note 8\n",
    "\n",
    "- Let us see another example of the CLT in practice.\n",
    "- Now, instead of a binomial distribution, let us consider a continuous uniform distribution.\n",
    "- We define a stochastic variable \"x\" of M=1, which is uniformly distributed between the unit interval.\n",
    "- Thus, the probability density of observing any value x is constant and equal to one, if x lies in the unit interval, and zero if it is outside.\n",
    "- The average and the variance can be easily calculated analytically, and are given by 1/2 and 1/12 respectively.\n",
    "- Now, define a new stochastic variable $x$ of M, which is the sum of M of these uniform random variables.\n",
    "- In the limit when M is very large, $x$ of M is described by a Gaussian distribution with average and mean given by Eqs. (D8) and (D9).\n",
    "- In this case, the average is just M/2 and the variance M/12."
   ]
  },
  {
   "cell_type": "markdown",
   "metadata": {
    "slideshow": {
     "slide_type": "slide"
    }
   },
   "source": [
    "## Numerical experiment 2"
   ]
  },
  {
   "cell_type": "code",
   "execution_count": 3,
   "metadata": {
    "collapsed": false
   },
   "outputs": [
    {
     "name": "stdout",
     "output_type": "stream",
     "text": [
      "M = 10\n"
     ]
    },
    {
     "data": {
      "image/png": "[encoded data removed]",
      "text/plain": [
       "<matplotlib.figure.Figure at 0x10ea12128>"
      ]
     },
     "metadata": {},
     "output_type": "display_data"
    }
   ],
   "source": [
    "M = 10    # set M, the number of random variables to add\n",
    "N = 100000 # number samples to draw, for each of the random variables\n",
    "ave = M/2\n",
    "std = np.sqrt(M/12)\n",
    "print('M =',M)\n",
    "np.random.seed(0)        # initialize the random number generator with seed=0\n",
    "X = np.zeros(N)\n",
    "for i in range(N):\n",
    "    X[i] += np.sum(np.random.rand(M)) # draw a random numbers for each of the x_i and add to get new value for x = \\sum x_i\n",
    "nmin=np.int(ave-std*5)\n",
    "nmax=np.int(ave+std*5)\n",
    "plt.hist(X,range=[nmin,nmax],bins=50,normed=True) # plot normalized histgram of R\n",
    "x = np.arange(nmin,nmax,0.01/std) # create array of x from nmin to nmax with increment 0.01/std\n",
    "y = np.exp(-(x-ave)**2/(2*std**2))/np.sqrt(2*np.pi*std**2) # calculate the theoretical distribution\n",
    "plt.plot(x,y,color='b') # plot y vs. x with blue line\n",
    "plt.xlabel(r'$n$',fontsize=16) # set x-label\n",
    "plt.ylabel(r'$P(n)$',fontsize=16) # set y-label\n",
    "plt.legend([r'Gauss',r'histgram'], fontsize=16) # set legends\n",
    "plt.show() # display plots"
   ]
  },
  {
   "cell_type": "markdown",
   "metadata": {
    "slideshow": {
     "slide_type": "notes"
    }
   },
   "source": [
    "#### Note 9\n",
    "\n",
    "- In this numerical experiment, we will verify that the sum of uniformly distributed random numbers converges to a Gaussian distribution with average and variance defined in Eqs.(D17) and (D18).\n",
    "- In the code example, we first set M, the number of random variables to add. \n",
    "- You should try with several values of M, such as M=1, 2, 4, 10, and 100 to see how the distribution converges to a Gaussian.\n",
    "- Thus, one experimental run consists of generating M random variables, and adding them to generate a sample for the cumulative variable. \n",
    "- We store these in the array X. \n",
    "- To obtain reliable statistics, we repeat this experiment N = 100,000 times.\n",
    "- Then, we plot the histogram of X, together with the corresponding theoretical Gaussian distribution.\n",
    "- The two should be equal in the limit when M is very large. \n",
    "- In practice, how many uniform random variables must you add to obtain a Gaussian random variable?\n",
    "- As you should see for yourselves, adding just 10 uniform random variables is already enough to reproduce a Gaussian distribution."
   ]
  },
  {
   "cell_type": "markdown",
   "metadata": {
    "slideshow": {
     "slide_type": "skip"
    }
   },
   "source": [
    "# Homework\n",
    "\n",
    "- Generate $N=10^5$ random numbers from a gaussian distribution. Calculate the percentage of points that are within one, two, three and four standard deviations from the average. \n",
    "- Imagine you have a distribution for a random variable that has the characteristic shape of a gaussian. Looking at the distribution near the tails, you notice that $0.01$ percent of the points are more than $5\\sigma$ away from the average. Can you say that the distribution is Gaussian?"
   ]
  }
 ],
 "metadata": {
  "anaconda-cloud": {},
  "celltoolbar": "Slideshow",
  "kernelspec": {
   "display_name": "Python [default]",
   "language": "python",
   "name": "python3"
  },
  "language_info": {
   "codemirror_mode": {
    "name": "ipython",
    "version": 3
   },
   "file_extension": ".py",
   "mimetype": "text/x-python",
   "name": "python",
   "nbconvert_exporter": "python",
   "pygments_lexer": "ipython3",
   "version": "3.5.2"
  }
 },
 "nbformat": 4,
 "nbformat_minor": 0
}
