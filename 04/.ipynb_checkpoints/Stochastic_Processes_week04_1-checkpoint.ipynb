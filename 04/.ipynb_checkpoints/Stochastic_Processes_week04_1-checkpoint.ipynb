{
 "cells": [
  {
   "cell_type": "markdown",
   "metadata": {
    "slideshow": {
     "slide_type": "slide"
    }
   },
   "source": [
    "<div style=\"text-align: center;\">\n",
    "<FONT size=\"8\">\n",
    "<BR><BR><b>\n",
    "Stochastic Processes: <BR><BR>Data Analysis and Computer Simulation  \n",
    "</b>\n",
    "</FONT>\n",
    "<BR><BR><BR>\n",
    "\n",
    "<FONT size=\"7\">\n",
    "<b>\n",
    "Brownian motion 2: computer simulation\n",
    "</b>\n",
    "</FONT> \n",
    "<BR><BR><BR>\n",
    "\n",
    "<FONT size=\"7\">\n",
    "<b>\n",
    "-Random force in the Langevin equation-\n",
    "</b>\n",
    "</FONT>\n",
    "<BR>\n",
    "</div>"
   ]
  },
  {
   "cell_type": "markdown",
   "metadata": {
    "slideshow": {
     "slide_type": "notes"
    }
   },
   "source": [
    "#### Note 1\n",
    "\n",
    "- I the previous lesson, we learned how to simulate the motion of a damped harmonic oscillator using Python.\n",
    "- We have also tested a few different numerical integration schemes, such as the Euler and Runge-Kutta method, and examined their numerical accuracy by calculating the total energy of the system for the undamped case.\n",
    "- Now, we will try to perform a similar simulation for the motion of a Brownian particle,by numerically solving the Langevin Equation.\n",
    "- In this lesson, to prepare for performing the simulations, we will first learn how to deal with the stochastic random force when we numerically solve the Langevin equation."
   ]
  },
  {
   "cell_type": "markdown",
   "metadata": {
    "slideshow": {
     "slide_type": "slide"
    }
   },
   "source": [
    "# Langevin equation\n",
    "\n",
    "## Model for a Brownian particle in 3-D\n",
    "\n",
    "![](fig/Langevin.png)\n",
    "\n",
    "\\begin{equation}\n",
    "m\\frac{d\\mathbf{V}(t)}{dt}=\\color{blue}{-\\zeta\\mathbf{V}(t)}+\\color{red}{\\mathbf{F}(t)} \n",
    "\\tag{21}\n",
    "\\end{equation}"
   ]
  },
  {
   "cell_type": "markdown",
   "metadata": {
    "slideshow": {
     "slide_type": "notes"
    }
   },
   "source": [
    "#### Note 2\n",
    "\n",
    "- Let us start by recalling the Langevin equation which we introduced last week as Eq.(21). \n",
    "- We consider the equation of motion of a spherical particle of radius $a$ and mass $m$ in a solvent fluid, which we treat as a continuum medium with viscosity $\\eta$. \n",
    "- $R(t)$ and $V(t)$ are the position and velocity of the particle at time $t$.\n",
    "- To construct Newton's equation of motion for a Brownian particle, the inertia force, which is on the left hand side of Eq.(F1), must be balanced with the total force acting on the particle.\n",
    "- Here we assume that the total force is composed of two distinct components, namely the friction force and the random force.\n",
    "- The former is proportional, but in the opposite direction, to the particle's velocity, with the friction constant $\\zeta$ the constant of proportionality.\n",
    "- The later represents the effects of the many collisions taking place between the Brownian particle and the fluid molecules as a series of random events."
   ]
  },
  {
   "cell_type": "markdown",
   "metadata": {
    "slideshow": {
     "slide_type": "slide"
    }
   },
   "source": [
    "## Time evolution equations\n",
    "\n",
    "\\begin{equation}\n",
    "\\frac{d\\mathbf{R}(t)}{dt}=\\mathbf{V}(t)\\tag{F1}\n",
    "\\end{equation}\n",
    "\n",
    "\\begin{equation}\n",
    "m\\frac{d\\mathbf{V}(t)}{dt}=\\color{black}{-\\zeta\\mathbf{V}(t)}+\\color{black}{\\mathbf{F}(t)} \n",
    "\\tag{F2}\n",
    "\\end{equation}\n",
    "\n",
    "\n",
    "## Random force\n",
    "\n",
    "\\begin{equation}\n",
    "\\langle \\mathbf{F}(t)\\rangle=\\mathbf{0} \n",
    "\\tag{F3}\n",
    "\\end{equation}\n",
    "\n",
    "\\begin{equation}\n",
    "\\langle \\mathbf{F}(t)\\mathbf{F}(0)\\rangle = {2k_B T\\zeta}\\mathbf{I}\\delta(t)  \n",
    "\\tag{F4}\n",
    "\\end{equation}"
   ]
  },
  {
   "cell_type": "markdown",
   "metadata": {
    "slideshow": {
     "slide_type": "notes"
    }
   },
   "source": [
    "#### Note 3\n",
    "\n",
    "- By putting all of this together, we obtain the Langevin equation given in Eq.(F2), which determines the time evolution of particle's velocity together with Eq.(F1), which determines its temporal position.\n",
    "- For the random force, it is assumed that the average of the force along any direction, x, y, or z, is zero as shown in Eq.(F3).\n",
    "- As we have seen already, each component of the random force is considered to be a white noise random variable.\n",
    "- Therefore the successive forces are completely uncorrelated, and also independent of the forces in different directions. \n",
    "- This is expressed mathematically as Eq.(F4), which defines the auto-correlation function for the random force as proportional to the unit tensor $\\mathbf{I}$ and the Dirac delta function $\\delta(t)$. \n",
    "- The pre-factor $2k_B T \\zeta$ is determined to satisfy the fluctuation dissipation theorem, which we have also learned about previously."
   ]
  },
  {
   "cell_type": "markdown",
   "metadata": {
    "slideshow": {
     "slide_type": "slide"
    }
   },
   "source": [
    "## Cf. Euler method for a damped harmonic oscillator\n",
    "\n",
    "$$\n",
    "\\frac{d\\mathbf{R}(t)}{dt} =\\mathbf{V}(t)\\hspace{17mm} \\tag{B1}\n",
    "$$\n",
    "\n",
    "$$\n",
    "m\\frac{d\\mathbf{V}(t)}{dt}=-\\zeta\\mathbf{V}(t)-k\\mathbf{R}(t) \\tag{B2}\n",
    "$$\n",
    "\n",
    "$$\n",
    "\\mathbf{R}_{i+1}=\\mathbf{R}_i+\\int_{t_i}^{t_{i+1}} dt\\mathbf{V}(t)\\simeq\\mathbf{R}_i+\\mathbf{V}_i \\Delta t \\hspace{15mm}\\tag{B3}\n",
    "$$\n",
    "\n",
    "$$\n",
    "\\mathbf{V}_{i+1}=\\mathbf{V}_i-\\frac{\\zeta}{m}\\int_{t_i}^{t_{i+1}} dt\\mathbf{V}(t)-\\frac{k}{m}\\int_{t_i}^{t_{i+1}} dt\\mathbf{R}(t)\n",
    "$$\n",
    "$$\n",
    "\\simeq\\left(1-\\frac{\\zeta}{m}\\Delta t\\right)\\mathbf{V}_i - \\frac{k}{m} \\mathbf{R}_i \\Delta t \\hspace{12mm}\\tag{B4}\n",
    "$$"
   ]
  },
  {
   "cell_type": "markdown",
   "metadata": {
    "slideshow": {
     "slide_type": "notes"
    }
   },
   "source": [
    "#### Note 4\n",
    "\n",
    "- Let me first summarize what we have done for the damped harmonic oscillator, whose equations of motion are represented as usual ordinary differential equations shown in Eqs.(B1) and (B2).\n",
    "- The Euler method allows us to numerically solve Eqs.(B1) and (B2) by discretizing the integral over a small time increment $\\Delta t$.\n",
    "- The approximated difference equations shown in Eqs. (B3) and (B4) are correct to first order in $\\Delta t$."
   ]
  },
  {
   "cell_type": "markdown",
   "metadata": {
    "slideshow": {
     "slide_type": "slide"
    }
   },
   "source": [
    "## Application of Euler method to Eqs.(F1) and (F2)\n",
    "\n",
    "\\begin{equation}\n",
    "\\mathbf{R}_{i+1}=\\mathbf{R}_i+\\int_{t_i}^{t_{i+1}} dt\\mathbf{V}(t)\\simeq\\mathbf{R}_i+\\mathbf{V}_i \\Delta t \n",
    "\\tag{F5}\n",
    "\\end{equation}\n",
    "\n",
    "$$\n",
    "\\mathbf{V}_{i+1}=\\mathbf{V}_i-\\frac{\\zeta}{m}\\int_{t_i}^{t_{i+1}} dt\\mathbf{V}(t)+\\frac{1}{m}\n",
    "\\color{red}{\n",
    "\\int_{t_i}^{t_{i+1}} dt\\mathbf{F}(t)}\n",
    "$$\n",
    "$$\n",
    "\\neq\n",
    "\\left(1-\\frac{\\zeta}{m}\\Delta t\\right)\\mathbf{V}_i + \\frac{1}{m} \\color{red}{\\mathbf{F}_i\\Delta t} \n",
    "\\tag{F6}\n",
    "$$\n",
    "\n",
    "$$\n",
    "\\because\n",
    "\\color{black}{\\int_{t_i}^{t_{i+1}} dt\\mathbf{F}(t)\\neq\\mathbf{F}_i\\Delta t} \n",
    "\\tag{F7}\n",
    "$$"
   ]
  },
  {
   "cell_type": "markdown",
   "metadata": {
    "slideshow": {
     "slide_type": "notes"
    }
   },
   "source": [
    "#### Note 5\n",
    "\n",
    "- Although it is not suitable in the present case, for solving the Langevin equation with a random force, a simple application of the Euler method leads to the set of difference equations shown here as Eqs.(F5) and (F6). As you can see, they are very similarly to Eqs.(B3) and (B4) for the damped harmonic oscillator.\n",
    "- While Eq.(F5) is OK, Eq.(6) is completly wrong.\n",
    "- It is incorrect to approximate the integral of the random force $F$ over the interval $\\Delta t$, from $t_i$ to $t_{i+1}$, as $F_i$ times $\\Delta t$, as given in Eq.(F7).\n",
    "- This approximation is valid only when the integrand is a smooth continuous function of $t$, such that the Taylor expansion in terms of $\\Delta t$ can be truncated to first order.\n",
    "- The random force is, however, not continuous. Although we do assume that its integral is continous. \n",
    "- It is a stochastic variable, rapidly fluctuating around its mean, and there exist no correlations between subsequent values."
   ]
  },
  {
   "cell_type": "markdown",
   "metadata": {
    "slideshow": {
     "slide_type": "slide"
    }
   },
   "source": [
    "## Cumulative impulse $\\Delta \\mathbf{W}_i$: the Wiener process\n",
    "\n",
    "$$\n",
    "\\int_{t_i}^{t_{i+1}} dt\\mathbf{F}(t)\n",
    "\\equiv\\Delta\\mathbf{W}_i\n",
    "\\tag{F8}\n",
    "$$\n",
    "\n",
    "- $F_\\alpha(t)\\rightarrow$ A series of random numbers drawn from some distribution with an average and variance equal to zero and $2k_B T\\zeta$, respectively.\n",
    "\n",
    "- $\\Delta W_{\\alpha,i}$ $\\rightarrow$ A series of random numbers drawn from a \"Gaussian distribution\", with an average and variance equal to zero and $2k_B T\\zeta\\Delta t$, respectively. This is a consequence of the central limit theorem (see the supplemental note for details)."
   ]
  },
  {
   "cell_type": "markdown",
   "metadata": {
    "slideshow": {
     "slide_type": "notes"
    }
   },
   "source": [
    "#### Note 6\n",
    "\n",
    "- Since approximate integration methods based on a Taylor expansion are not applicable when we have a random force, we introduce a new stochastic variable $\\Delta W_i$, which represents the cumulative impulse imparted on the particle over a time interval $\\Delta t$, from $t_i$ to $t_{t+1}$. In the literature, this is referred to as a Wiener process.\n",
    "- From Eqs.(F3) and (F4) we see that the temporal values of the random force along each direction are sampled by a series of random numbers drawn from a well-defined distribution, with an average and variance equal to zero and  $2kBT\\zeta$, respectively.\n",
    "- Because $\\Delta W_i$ is defined as the cumulative impulse of $F(t)$ over a time interval $\\Delta t$, it is expected that the $\\Delta W_i$ along each direction are sampled by a series of random numbers drawn from a Gaussian distribution, with a well-defined average and variance, consequence of the central limit theorem.\n",
    "- Theoretical considerations based on the properties of random variables indeed show that $\\Delta W_i$ is given by a \"Gaussian distribution\", with average and variance equal to zero and  $2kBT\\zeta$ times $\\Delta t$, respectively.\n",
    "- While this result is what one would intuitively expect from the central limit theorem, you are encouraged to refer to the supplemental note for a detailed derivation."
   ]
  },
  {
   "cell_type": "markdown",
   "metadata": {
    "slideshow": {
     "slide_type": "slide"
    }
   },
   "source": [
    "## Modified velocity update equation (Eq.(F6)$\\rightarrow$(F9))\n",
    "\n",
    "$$\n",
    "\\mathbf{V}_{i+1}=\\mathbf{V}_i-\\frac{\\zeta}{m}\\int_{t_i}^{t_{i+1}} dt\\mathbf{V}(t)+\\frac{1}{m}\n",
    "\\color{red}{\n",
    "\\int_{t_i}^{t_{i+1}} dt\\mathbf{F}(t)}\n",
    "$$\n",
    "$$\n",
    "\\simeq\\left(1-\\frac{\\zeta}{m}\\Delta t\\right)\\mathbf{V}_i + \\frac{1}{m} \\color{red}{\\Delta \\mathbf{W}_i} \n",
    "\\tag{F9}\n",
    "$$\n",
    "\n",
    "\\begin{equation}\n",
    "\\langle \\Delta \\mathbf{W}_i\\rangle=\\mathbf{0} \n",
    "\\tag{F10}\n",
    "\\end{equation}\n",
    "\n",
    "\\begin{equation}\n",
    "\\langle \\Delta \\mathbf{W}_i\\Delta \\mathbf{W}_j\\rangle = {2k_B T\\zeta}\\Delta t\\mathbf{I}\\delta_{ij}  \n",
    "\\tag{F11}\n",
    "\\end{equation}\n",
    "\n",
    "\n",
    "\n"
   ]
  },
  {
   "cell_type": "markdown",
   "metadata": {
    "slideshow": {
     "slide_type": "notes"
    }
   },
   "source": [
    "#### Note 7\n",
    "\n",
    "- Instead of the naive and incorrect approximation of Eq.(F6), a correct set of modified equations for the velocity update are shown here as Eqs.(F9) to (F11).\n",
    "- Simulations for the motions of a Brownian particle can thus be performed by solving the coupled set of equations (F5), (F9), (F10) and (F11).\n",
    "- In the next lesson, I will show you how to do exactly this using Python."
   ]
  },
  {
   "cell_type": "markdown",
   "metadata": {
    "slideshow": {
     "slide_type": "skip"
    }
   },
   "source": [
    "## Homework"
   ]
  },
  {
   "cell_type": "code",
   "execution_count": null,
   "metadata": {
    "collapsed": true,
    "slideshow": {
     "slide_type": "skip"
    }
   },
   "outputs": [],
   "source": []
  }
 ],
 "metadata": {
  "anaconda-cloud": {},
  "celltoolbar": "Slideshow",
  "kernelspec": {
   "display_name": "Python [default]",
   "language": "python",
   "name": "python3"
  },
  "language_info": {
   "codemirror_mode": {
    "name": "ipython",
    "version": 3
   },
   "file_extension": ".py",
   "mimetype": "text/x-python",
   "name": "python",
   "nbconvert_exporter": "python",
   "pygments_lexer": "ipython3",
   "version": "3.5.2"
  }
 },
 "nbformat": 4,
 "nbformat_minor": 0
}
